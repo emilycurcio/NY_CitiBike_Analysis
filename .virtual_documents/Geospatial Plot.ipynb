





# Import libraries
import pandas as pd
import os
from keplergl import KeplerGl
from pyproj import CRS
import numpy as np
from matplotlib import pyplot as plt


# Load data
df = pd.read_csv('new_york_data.csv', index_col = 0)


df.head()





# Take random sample of df
percentage = 0.001
subset_size = int(len(df) * percentage)
#subset_size = 100


df_subset = df.sample(n = subset_size)


df_subset.shape


df_subset.head()


#df_subset['combined'] = df.apply(lambda row: ', '.join([str(row['start_station_name']),
 #                                                       str(row['start_lat']),
  #                                                      str(row['start_lng'])]), axis = 1)


#df_subset['combined_end'] = df.apply(lambda row: ', '.join([str(row['end_station_name']),
 #                                                       str(row['end_lat']),
  #                                                      str(row['end_lng'])]), axis = 1)


# Group by start and end station
df_group = df_subset.groupby(['start_station_name', 'end_station_name'])['value'].count().reset_index()


df_group.rename(columns = {'from_station_name': 'start_station_name', 'to_station_name': 'end_station_name',
                          'value': 'trips'}, inplace = True)


df_group.shape


df_group.head()


# Subset of start stations
start_stations = df_subset[['start_station_name', 'start_lat', 'start_lng']]


start_stations.rename(columns = {'start_station_name': 'station', 'start_lat': 'lat', 'start_lng': 'lng'}, inplace = True)


start_stations.shape


start_stations.head()


# Subset of end stations
end_stations = df_subset[['end_station_name', 'end_lat', 'end_lng']]


end_stations.rename(columns = {'end_station_name': 'station', 'end_lat': 'lat', 'end_lng': 'lng'}, inplace = True)


end_stations.shape


end_stations.head()


# Combine to create df of stations and their coordinates
df_stations = pd.concat([start_stations, end_stations])


df_stations['start_station_name'] = df_stations['station']


df_stations['end_station_name'] = df_stations['station']


df_stations.drop('station', axis = 1, inplace = True)


df_stations.reset_index(drop = True, inplace = True)


df_stations = df_stations.drop_duplicates()


df_stations.shape


df_stations.head()


#df_m = pd.merge(df_group, df_stations, how = 'left', on = 'start_station_name')
# Merge df_group with df_stations on start_station_name
df_m = df_group.merge(df_stations, how = 'outer', on = "start_station_name", indicator = 'merge_flag')


df_group.shape


df_stations.shape


df_m.shape


df_m.head()


df_m['merge_flag'].value_counts(dropna = False)


df_m = df_m[df_m['merge_flag'] =='both']


df_m.shape


df_m.head()


df_m.drop(columns = {'end_station_name_y'}, inplace = True)


df_m.rename(columns = {'end_station_name_x' : 'end_station_name'}, inplace = True)


df_m.head()


# Merge df_m with df_stations on end_station_name
df_final = df_m.merge(df_stations, how = 'outer', on = 'end_station_name', indicator = 'merge_flag_2')


df_final['merge_flag_2'].value_counts(dropna = False)


df_final.head()


df_final = df_final[df_final['merge_flag_2'] =='both']


df_final.drop(columns = {'start_station_name_y', 'merge_flag', 'merge_flag_2'}, inplace = True)


df_final.rename(columns = {'start_station_name_x' : 'start_station_name'}, inplace = True)


df_final.rename(columns = {'start_station_name_x' : 'start_station_name', 'lat_x' : 'start_lat',
                           'lng_x' : 'start_lon', 'lat_y' : 'end_lat', 'lng_y' : 'end_lon',}, inplace = True)


import gc # this is garbage collector - speeds up performance
gc.collect()


df_final.head()


df_final.to_csv('df_final_locations_for_map.csv')





# Create KeplerGl instance
m = KeplerGl(height = 700, data={"data_1": df_final})
m





# Create a config object and save your map with it
config = m.config


config


import json
with open("config.json", "w") as outfile:
    json.dump(config, outfile)


m.save_to_html(file_name = 'CitiBike Trips Aggregated.html', read_only = False, config = config)



