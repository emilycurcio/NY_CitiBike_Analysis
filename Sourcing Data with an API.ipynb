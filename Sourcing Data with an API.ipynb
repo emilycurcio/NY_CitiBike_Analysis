{
 "cells": [
  {
   "cell_type": "markdown",
   "id": "624c5700-324c-4426-a64d-44060819c5fe",
   "metadata": {},
   "source": [
    "# NY CitiBike Analysis: Sourcing Data with an API"
   ]
  },
  {
   "cell_type": "markdown",
   "id": "11586263-eca7-458f-8621-bb4b30874567",
   "metadata": {},
   "source": [
    "## Import Libraries and Load CitiBike Data"
   ]
  },
  {
   "cell_type": "code",
   "execution_count": 1,
   "id": "9617fec0-7c13-424c-b4da-78f54623ae2d",
   "metadata": {},
   "outputs": [],
   "source": [
    "# Import libraries\n",
    "import pandas as pd \n",
    "import numpy as np\n",
    "import os \n",
    "import requests\n",
    "import json\n",
    "from datetime import datetime"
   ]
  },
  {
   "cell_type": "code",
   "execution_count": 2,
   "id": "695f9800-6671-4142-957a-f9f69d419f08",
   "metadata": {
    "scrolled": true
   },
   "outputs": [
    {
     "data": {
      "text/plain": [
       "['/Users/emilycurcio/NY_CitiBike_Analysis/Raw Data/202208-citibike-tripdata_3.csv',\n",
       " '/Users/emilycurcio/NY_CitiBike_Analysis/Raw Data/202208-citibike-tripdata_2.csv',\n",
       " '/Users/emilycurcio/NY_CitiBike_Analysis/Raw Data/202210-citibike-tripdata_4.csv',\n",
       " '/Users/emilycurcio/NY_CitiBike_Analysis/Raw Data/202208-citibike-tripdata_1.csv',\n",
       " '/Users/emilycurcio/NY_CitiBike_Analysis/Raw Data/202210-citibike-tripdata_1.csv',\n",
       " '/Users/emilycurcio/NY_CitiBike_Analysis/Raw Data/.DS_Store',\n",
       " '/Users/emilycurcio/NY_CitiBike_Analysis/Raw Data/202208-citibike-tripdata_4.csv',\n",
       " '/Users/emilycurcio/NY_CitiBike_Analysis/Raw Data/202203-citibike-tripdata_2.csv',\n",
       " '/Users/emilycurcio/NY_CitiBike_Analysis/Raw Data/202210-citibike-tripdata_2.csv',\n",
       " '/Users/emilycurcio/NY_CitiBike_Analysis/Raw Data/202203-citibike-tripdata_1.csv',\n",
       " '/Users/emilycurcio/NY_CitiBike_Analysis/Raw Data/202210-citibike-tripdata_3.csv',\n",
       " '/Users/emilycurcio/NY_CitiBike_Analysis/Raw Data/202204-citibike-tripdata_1.csv',\n",
       " '/Users/emilycurcio/NY_CitiBike_Analysis/Raw Data/202204-citibike-tripdata_2.csv',\n",
       " '/Users/emilycurcio/NY_CitiBike_Analysis/Raw Data/202204-citibike-tripdata_3.csv',\n",
       " '/Users/emilycurcio/NY_CitiBike_Analysis/Raw Data/202211-citibike-tripdata_3.csv',\n",
       " '/Users/emilycurcio/NY_CitiBike_Analysis/Raw Data/202202-citibike-tripdata_1.csv',\n",
       " '/Users/emilycurcio/NY_CitiBike_Analysis/Raw Data/202206-citbike-tripdata_1.csv',\n",
       " '/Users/emilycurcio/NY_CitiBike_Analysis/Raw Data/202211-citibike-tripdata_2.csv',\n",
       " '/Users/emilycurcio/NY_CitiBike_Analysis/Raw Data/202202-citibike-tripdata_2.csv',\n",
       " '/Users/emilycurcio/NY_CitiBike_Analysis/Raw Data/202209-citibike-tripdata_4.csv',\n",
       " '/Users/emilycurcio/NY_CitiBike_Analysis/Raw Data/202206-citbike-tripdata_2.csv',\n",
       " '/Users/emilycurcio/NY_CitiBike_Analysis/Raw Data/202206-citbike-tripdata_3.csv',\n",
       " '/Users/emilycurcio/NY_CitiBike_Analysis/Raw Data/202211-citibike-tripdata_1.csv',\n",
       " '/Users/emilycurcio/NY_CitiBike_Analysis/Raw Data/202209-citibike-tripdata_1.csv',\n",
       " '/Users/emilycurcio/NY_CitiBike_Analysis/Raw Data/202209-citibike-tripdata_2.csv',\n",
       " '/Users/emilycurcio/NY_CitiBike_Analysis/Raw Data/202206-citbike-tripdata_4.csv',\n",
       " '/Users/emilycurcio/NY_CitiBike_Analysis/Raw Data/202209-citibike-tripdata_3.csv',\n",
       " '/Users/emilycurcio/NY_CitiBike_Analysis/Raw Data/202205-citibike-tripdata_3.csv',\n",
       " '/Users/emilycurcio/NY_CitiBike_Analysis/Raw Data/202207-citbike-tripdata_4.csv',\n",
       " '/Users/emilycurcio/NY_CitiBike_Analysis/Raw Data/202205-citibike-tripdata_2.csv',\n",
       " '/Users/emilycurcio/NY_CitiBike_Analysis/Raw Data/202205-citibike-tripdata_1.csv',\n",
       " '/Users/emilycurcio/NY_CitiBike_Analysis/Raw Data/202201-citibike-tripdata_2.csv',\n",
       " '/Users/emilycurcio/NY_CitiBike_Analysis/Raw Data/202207-citbike-tripdata_3.csv',\n",
       " '/Users/emilycurcio/NY_CitiBike_Analysis/Raw Data/202207-citbike-tripdata_2.csv',\n",
       " '/Users/emilycurcio/NY_CitiBike_Analysis/Raw Data/202212-citibike-tripdata_1.csv',\n",
       " '/Users/emilycurcio/NY_CitiBike_Analysis/Raw Data/202201-citibike-tripdata_1.csv',\n",
       " '/Users/emilycurcio/NY_CitiBike_Analysis/Raw Data/202207-citbike-tripdata_1.csv',\n",
       " '/Users/emilycurcio/NY_CitiBike_Analysis/Raw Data/202212-citibike-tripdata_2.csv']"
      ]
     },
     "execution_count": 2,
     "metadata": {},
     "output_type": "execute_result"
    }
   ],
   "source": [
    "# Create a list with all files in the folder using a list comprehension\n",
    "folderpath = r'/Users/emilycurcio/NY_CitiBike_Analysis/Raw Data'\n",
    "filepaths  = [os.path.join(folderpath, name) for name in os.listdir(folderpath)]\n",
    "filepaths"
   ]
  },
  {
   "cell_type": "code",
   "execution_count": 3,
   "id": "75776bd1-550e-404c-8f58-ff570353faf7",
   "metadata": {
    "scrolled": true
   },
   "outputs": [
    {
     "data": {
      "text/plain": [
       "['/Users/emilycurcio/NY_CitiBike_Analysis/Raw Data/202208-citibike-tripdata_3.csv',\n",
       " '/Users/emilycurcio/NY_CitiBike_Analysis/Raw Data/202208-citibike-tripdata_2.csv',\n",
       " '/Users/emilycurcio/NY_CitiBike_Analysis/Raw Data/202210-citibike-tripdata_4.csv',\n",
       " '/Users/emilycurcio/NY_CitiBike_Analysis/Raw Data/202208-citibike-tripdata_1.csv',\n",
       " '/Users/emilycurcio/NY_CitiBike_Analysis/Raw Data/202210-citibike-tripdata_1.csv',\n",
       " '/Users/emilycurcio/NY_CitiBike_Analysis/Raw Data/202208-citibike-tripdata_4.csv',\n",
       " '/Users/emilycurcio/NY_CitiBike_Analysis/Raw Data/202203-citibike-tripdata_2.csv',\n",
       " '/Users/emilycurcio/NY_CitiBike_Analysis/Raw Data/202210-citibike-tripdata_2.csv',\n",
       " '/Users/emilycurcio/NY_CitiBike_Analysis/Raw Data/202203-citibike-tripdata_1.csv',\n",
       " '/Users/emilycurcio/NY_CitiBike_Analysis/Raw Data/202210-citibike-tripdata_3.csv',\n",
       " '/Users/emilycurcio/NY_CitiBike_Analysis/Raw Data/202204-citibike-tripdata_1.csv',\n",
       " '/Users/emilycurcio/NY_CitiBike_Analysis/Raw Data/202204-citibike-tripdata_2.csv',\n",
       " '/Users/emilycurcio/NY_CitiBike_Analysis/Raw Data/202204-citibike-tripdata_3.csv',\n",
       " '/Users/emilycurcio/NY_CitiBike_Analysis/Raw Data/202211-citibike-tripdata_3.csv',\n",
       " '/Users/emilycurcio/NY_CitiBike_Analysis/Raw Data/202202-citibike-tripdata_1.csv',\n",
       " '/Users/emilycurcio/NY_CitiBike_Analysis/Raw Data/202206-citbike-tripdata_1.csv',\n",
       " '/Users/emilycurcio/NY_CitiBike_Analysis/Raw Data/202211-citibike-tripdata_2.csv',\n",
       " '/Users/emilycurcio/NY_CitiBike_Analysis/Raw Data/202202-citibike-tripdata_2.csv',\n",
       " '/Users/emilycurcio/NY_CitiBike_Analysis/Raw Data/202209-citibike-tripdata_4.csv',\n",
       " '/Users/emilycurcio/NY_CitiBike_Analysis/Raw Data/202206-citbike-tripdata_2.csv',\n",
       " '/Users/emilycurcio/NY_CitiBike_Analysis/Raw Data/202206-citbike-tripdata_3.csv',\n",
       " '/Users/emilycurcio/NY_CitiBike_Analysis/Raw Data/202211-citibike-tripdata_1.csv',\n",
       " '/Users/emilycurcio/NY_CitiBike_Analysis/Raw Data/202209-citibike-tripdata_1.csv',\n",
       " '/Users/emilycurcio/NY_CitiBike_Analysis/Raw Data/202209-citibike-tripdata_2.csv',\n",
       " '/Users/emilycurcio/NY_CitiBike_Analysis/Raw Data/202206-citbike-tripdata_4.csv',\n",
       " '/Users/emilycurcio/NY_CitiBike_Analysis/Raw Data/202209-citibike-tripdata_3.csv',\n",
       " '/Users/emilycurcio/NY_CitiBike_Analysis/Raw Data/202205-citibike-tripdata_3.csv',\n",
       " '/Users/emilycurcio/NY_CitiBike_Analysis/Raw Data/202207-citbike-tripdata_4.csv',\n",
       " '/Users/emilycurcio/NY_CitiBike_Analysis/Raw Data/202205-citibike-tripdata_2.csv',\n",
       " '/Users/emilycurcio/NY_CitiBike_Analysis/Raw Data/202205-citibike-tripdata_1.csv',\n",
       " '/Users/emilycurcio/NY_CitiBike_Analysis/Raw Data/202201-citibike-tripdata_2.csv',\n",
       " '/Users/emilycurcio/NY_CitiBike_Analysis/Raw Data/202207-citbike-tripdata_3.csv',\n",
       " '/Users/emilycurcio/NY_CitiBike_Analysis/Raw Data/202207-citbike-tripdata_2.csv',\n",
       " '/Users/emilycurcio/NY_CitiBike_Analysis/Raw Data/202212-citibike-tripdata_1.csv',\n",
       " '/Users/emilycurcio/NY_CitiBike_Analysis/Raw Data/202201-citibike-tripdata_1.csv',\n",
       " '/Users/emilycurcio/NY_CitiBike_Analysis/Raw Data/202207-citbike-tripdata_1.csv',\n",
       " '/Users/emilycurcio/NY_CitiBike_Analysis/Raw Data/202212-citibike-tripdata_2.csv']"
      ]
     },
     "execution_count": 3,
     "metadata": {},
     "output_type": "execute_result"
    }
   ],
   "source": [
    "# Remove the .DS_Store file from the list\n",
    "del filepaths[5]\n",
    "filepaths"
   ]
  },
  {
   "cell_type": "code",
   "execution_count": 4,
   "id": "5717138e-a2f5-4aeb-8b53-27ff0ce5a644",
   "metadata": {
    "scrolled": true
   },
   "outputs": [
    {
     "name": "stderr",
     "output_type": "stream",
     "text": [
      "/var/folders/4n/51fny6wj15lbcvykgf0dns700000gn/T/ipykernel_84104/4167960515.py:2: DtypeWarning: Columns (5,7) have mixed types. Specify dtype option on import or set low_memory=False.\n",
      "  df = pd.concat((pd.read_csv(f) for f in filepaths), ignore_index = True)\n",
      "/var/folders/4n/51fny6wj15lbcvykgf0dns700000gn/T/ipykernel_84104/4167960515.py:2: DtypeWarning: Columns (5,7) have mixed types. Specify dtype option on import or set low_memory=False.\n",
      "  df = pd.concat((pd.read_csv(f) for f in filepaths), ignore_index = True)\n",
      "/var/folders/4n/51fny6wj15lbcvykgf0dns700000gn/T/ipykernel_84104/4167960515.py:2: DtypeWarning: Columns (5,7) have mixed types. Specify dtype option on import or set low_memory=False.\n",
      "  df = pd.concat((pd.read_csv(f) for f in filepaths), ignore_index = True)\n",
      "/var/folders/4n/51fny6wj15lbcvykgf0dns700000gn/T/ipykernel_84104/4167960515.py:2: DtypeWarning: Columns (5,7) have mixed types. Specify dtype option on import or set low_memory=False.\n",
      "  df = pd.concat((pd.read_csv(f) for f in filepaths), ignore_index = True)\n",
      "/var/folders/4n/51fny6wj15lbcvykgf0dns700000gn/T/ipykernel_84104/4167960515.py:2: DtypeWarning: Columns (5,7) have mixed types. Specify dtype option on import or set low_memory=False.\n",
      "  df = pd.concat((pd.read_csv(f) for f in filepaths), ignore_index = True)\n",
      "/var/folders/4n/51fny6wj15lbcvykgf0dns700000gn/T/ipykernel_84104/4167960515.py:2: DtypeWarning: Columns (5,7) have mixed types. Specify dtype option on import or set low_memory=False.\n",
      "  df = pd.concat((pd.read_csv(f) for f in filepaths), ignore_index = True)\n",
      "/var/folders/4n/51fny6wj15lbcvykgf0dns700000gn/T/ipykernel_84104/4167960515.py:2: DtypeWarning: Columns (5,7) have mixed types. Specify dtype option on import or set low_memory=False.\n",
      "  df = pd.concat((pd.read_csv(f) for f in filepaths), ignore_index = True)\n",
      "/var/folders/4n/51fny6wj15lbcvykgf0dns700000gn/T/ipykernel_84104/4167960515.py:2: DtypeWarning: Columns (5,7) have mixed types. Specify dtype option on import or set low_memory=False.\n",
      "  df = pd.concat((pd.read_csv(f) for f in filepaths), ignore_index = True)\n",
      "/var/folders/4n/51fny6wj15lbcvykgf0dns700000gn/T/ipykernel_84104/4167960515.py:2: DtypeWarning: Columns (5,7) have mixed types. Specify dtype option on import or set low_memory=False.\n",
      "  df = pd.concat((pd.read_csv(f) for f in filepaths), ignore_index = True)\n",
      "/var/folders/4n/51fny6wj15lbcvykgf0dns700000gn/T/ipykernel_84104/4167960515.py:2: DtypeWarning: Columns (5,7) have mixed types. Specify dtype option on import or set low_memory=False.\n",
      "  df = pd.concat((pd.read_csv(f) for f in filepaths), ignore_index = True)\n",
      "/var/folders/4n/51fny6wj15lbcvykgf0dns700000gn/T/ipykernel_84104/4167960515.py:2: DtypeWarning: Columns (5,7) have mixed types. Specify dtype option on import or set low_memory=False.\n",
      "  df = pd.concat((pd.read_csv(f) for f in filepaths), ignore_index = True)\n",
      "/var/folders/4n/51fny6wj15lbcvykgf0dns700000gn/T/ipykernel_84104/4167960515.py:2: DtypeWarning: Columns (5,7) have mixed types. Specify dtype option on import or set low_memory=False.\n",
      "  df = pd.concat((pd.read_csv(f) for f in filepaths), ignore_index = True)\n",
      "/var/folders/4n/51fny6wj15lbcvykgf0dns700000gn/T/ipykernel_84104/4167960515.py:2: DtypeWarning: Columns (5,7) have mixed types. Specify dtype option on import or set low_memory=False.\n",
      "  df = pd.concat((pd.read_csv(f) for f in filepaths), ignore_index = True)\n",
      "/var/folders/4n/51fny6wj15lbcvykgf0dns700000gn/T/ipykernel_84104/4167960515.py:2: DtypeWarning: Columns (5,7) have mixed types. Specify dtype option on import or set low_memory=False.\n",
      "  df = pd.concat((pd.read_csv(f) for f in filepaths), ignore_index = True)\n",
      "/var/folders/4n/51fny6wj15lbcvykgf0dns700000gn/T/ipykernel_84104/4167960515.py:2: DtypeWarning: Columns (5) have mixed types. Specify dtype option on import or set low_memory=False.\n",
      "  df = pd.concat((pd.read_csv(f) for f in filepaths), ignore_index = True)\n",
      "/var/folders/4n/51fny6wj15lbcvykgf0dns700000gn/T/ipykernel_84104/4167960515.py:2: DtypeWarning: Columns (5,7) have mixed types. Specify dtype option on import or set low_memory=False.\n",
      "  df = pd.concat((pd.read_csv(f) for f in filepaths), ignore_index = True)\n",
      "/var/folders/4n/51fny6wj15lbcvykgf0dns700000gn/T/ipykernel_84104/4167960515.py:2: DtypeWarning: Columns (7) have mixed types. Specify dtype option on import or set low_memory=False.\n",
      "  df = pd.concat((pd.read_csv(f) for f in filepaths), ignore_index = True)\n",
      "/var/folders/4n/51fny6wj15lbcvykgf0dns700000gn/T/ipykernel_84104/4167960515.py:2: DtypeWarning: Columns (5,7) have mixed types. Specify dtype option on import or set low_memory=False.\n",
      "  df = pd.concat((pd.read_csv(f) for f in filepaths), ignore_index = True)\n",
      "/var/folders/4n/51fny6wj15lbcvykgf0dns700000gn/T/ipykernel_84104/4167960515.py:2: DtypeWarning: Columns (5,7) have mixed types. Specify dtype option on import or set low_memory=False.\n",
      "  df = pd.concat((pd.read_csv(f) for f in filepaths), ignore_index = True)\n",
      "/var/folders/4n/51fny6wj15lbcvykgf0dns700000gn/T/ipykernel_84104/4167960515.py:2: DtypeWarning: Columns (5,7) have mixed types. Specify dtype option on import or set low_memory=False.\n",
      "  df = pd.concat((pd.read_csv(f) for f in filepaths), ignore_index = True)\n",
      "/var/folders/4n/51fny6wj15lbcvykgf0dns700000gn/T/ipykernel_84104/4167960515.py:2: DtypeWarning: Columns (5,7) have mixed types. Specify dtype option on import or set low_memory=False.\n",
      "  df = pd.concat((pd.read_csv(f) for f in filepaths), ignore_index = True)\n",
      "/var/folders/4n/51fny6wj15lbcvykgf0dns700000gn/T/ipykernel_84104/4167960515.py:2: DtypeWarning: Columns (5,7) have mixed types. Specify dtype option on import or set low_memory=False.\n",
      "  df = pd.concat((pd.read_csv(f) for f in filepaths), ignore_index = True)\n",
      "/var/folders/4n/51fny6wj15lbcvykgf0dns700000gn/T/ipykernel_84104/4167960515.py:2: DtypeWarning: Columns (5,7) have mixed types. Specify dtype option on import or set low_memory=False.\n",
      "  df = pd.concat((pd.read_csv(f) for f in filepaths), ignore_index = True)\n",
      "/var/folders/4n/51fny6wj15lbcvykgf0dns700000gn/T/ipykernel_84104/4167960515.py:2: DtypeWarning: Columns (5,7) have mixed types. Specify dtype option on import or set low_memory=False.\n",
      "  df = pd.concat((pd.read_csv(f) for f in filepaths), ignore_index = True)\n",
      "/var/folders/4n/51fny6wj15lbcvykgf0dns700000gn/T/ipykernel_84104/4167960515.py:2: DtypeWarning: Columns (5,7) have mixed types. Specify dtype option on import or set low_memory=False.\n",
      "  df = pd.concat((pd.read_csv(f) for f in filepaths), ignore_index = True)\n",
      "/var/folders/4n/51fny6wj15lbcvykgf0dns700000gn/T/ipykernel_84104/4167960515.py:2: DtypeWarning: Columns (5,7) have mixed types. Specify dtype option on import or set low_memory=False.\n",
      "  df = pd.concat((pd.read_csv(f) for f in filepaths), ignore_index = True)\n",
      "/var/folders/4n/51fny6wj15lbcvykgf0dns700000gn/T/ipykernel_84104/4167960515.py:2: DtypeWarning: Columns (5,7) have mixed types. Specify dtype option on import or set low_memory=False.\n",
      "  df = pd.concat((pd.read_csv(f) for f in filepaths), ignore_index = True)\n",
      "/var/folders/4n/51fny6wj15lbcvykgf0dns700000gn/T/ipykernel_84104/4167960515.py:2: DtypeWarning: Columns (5,7) have mixed types. Specify dtype option on import or set low_memory=False.\n",
      "  df = pd.concat((pd.read_csv(f) for f in filepaths), ignore_index = True)\n",
      "/var/folders/4n/51fny6wj15lbcvykgf0dns700000gn/T/ipykernel_84104/4167960515.py:2: DtypeWarning: Columns (5,7) have mixed types. Specify dtype option on import or set low_memory=False.\n",
      "  df = pd.concat((pd.read_csv(f) for f in filepaths), ignore_index = True)\n",
      "/var/folders/4n/51fny6wj15lbcvykgf0dns700000gn/T/ipykernel_84104/4167960515.py:2: DtypeWarning: Columns (5,7) have mixed types. Specify dtype option on import or set low_memory=False.\n",
      "  df = pd.concat((pd.read_csv(f) for f in filepaths), ignore_index = True)\n",
      "/var/folders/4n/51fny6wj15lbcvykgf0dns700000gn/T/ipykernel_84104/4167960515.py:2: DtypeWarning: Columns (5,7) have mixed types. Specify dtype option on import or set low_memory=False.\n",
      "  df = pd.concat((pd.read_csv(f) for f in filepaths), ignore_index = True)\n",
      "/var/folders/4n/51fny6wj15lbcvykgf0dns700000gn/T/ipykernel_84104/4167960515.py:2: DtypeWarning: Columns (5,7) have mixed types. Specify dtype option on import or set low_memory=False.\n",
      "  df = pd.concat((pd.read_csv(f) for f in filepaths), ignore_index = True)\n",
      "/var/folders/4n/51fny6wj15lbcvykgf0dns700000gn/T/ipykernel_84104/4167960515.py:2: DtypeWarning: Columns (5,7) have mixed types. Specify dtype option on import or set low_memory=False.\n",
      "  df = pd.concat((pd.read_csv(f) for f in filepaths), ignore_index = True)\n",
      "/var/folders/4n/51fny6wj15lbcvykgf0dns700000gn/T/ipykernel_84104/4167960515.py:2: DtypeWarning: Columns (5,7) have mixed types. Specify dtype option on import or set low_memory=False.\n",
      "  df = pd.concat((pd.read_csv(f) for f in filepaths), ignore_index = True)\n"
     ]
    }
   ],
   "source": [
    "# Read and concatenate all files simultaneously\n",
    "df = pd.concat((pd.read_csv(f) for f in filepaths), ignore_index = True)"
   ]
  },
  {
   "cell_type": "code",
   "execution_count": 5,
   "id": "bfc41876-87a0-4688-ae0e-a33e004d3c45",
   "metadata": {},
   "outputs": [
    {
     "data": {
      "text/plain": [
       "(30689921, 13)"
      ]
     },
     "execution_count": 5,
     "metadata": {},
     "output_type": "execute_result"
    }
   ],
   "source": [
    "df.shape"
   ]
  },
  {
   "cell_type": "markdown",
   "id": "47d86f7d-ee23-4dca-b5bb-7b474f3ac52a",
   "metadata": {},
   "source": [
    "#### In order to load the data from multiple csv files I start by making sure those csv files are all in the same folder on my computer, and then I identify that folder path and assign it to the variable folderpath. Next I use the join() function and a for loop to grab all the names of the csv files and append them each to the folderpath, storing this list in the variable filepaths. Lastly, I use a for loop again to read each of the csv files in the filepaths list, and then use the concat() function to merge the data vertically.\n",
    "\n",
    "#### When merging the data, I choose to use a generator (parenthesis) instead of a list comprehension (brackets). This is because I only need to iterate through the files once, and generators are capable of handling one file at a time, making them more memory efficient."
   ]
  },
  {
   "cell_type": "markdown",
   "id": "4da6caf6-420c-40b6-80ac-e692d8eb9968",
   "metadata": {},
   "source": [
    "## Get Weather Data using NOAA's API"
   ]
  },
  {
   "cell_type": "code",
   "execution_count": 6,
   "id": "f2cab151-3344-4301-b557-20d7a5bcdf49",
   "metadata": {},
   "outputs": [],
   "source": [
    "# Define your NOAA token\n",
    "Token = os.getenv(\"NOAA_TOKEN\")"
   ]
  },
  {
   "cell_type": "code",
   "execution_count": 7,
   "id": "bcf4c436-e60b-43bd-87cb-a326e3750fa2",
   "metadata": {},
   "outputs": [],
   "source": [
    "# Get the API \n",
    "r = requests.get('https://www.ncdc.noaa.gov/cdo-web/api/v2/data?datasetid=GHCND&datatypeid=TAVG&limit=1000&stationid=GHCND:USW00014732&startdate=2022-01-01&enddate=2022-12-31', headers = {'token': Token})"
   ]
  },
  {
   "cell_type": "code",
   "execution_count": 8,
   "id": "fd182d77-316d-4680-bfef-b3fbd1c46a24",
   "metadata": {},
   "outputs": [],
   "source": [
    "# Load the API response as a json\n",
    "d = json.loads(r.text)"
   ]
  },
  {
   "cell_type": "code",
   "execution_count": 9,
   "id": "b1f27b5f-70ee-41c1-9d30-9cbbb32f81c1",
   "metadata": {},
   "outputs": [],
   "source": [
    "# Secure all items in the response that correspond to TAVG\n",
    "avg_temps = [item for item in d['results'] if item['datatype'] == 'TAVG']"
   ]
  },
  {
   "cell_type": "code",
   "execution_count": 10,
   "id": "b091c819-bb6d-4a13-9c4c-83564831a9b5",
   "metadata": {},
   "outputs": [],
   "source": [
    "# Get only the date field from all average temperature readings\n",
    "dates_temp = [item['date'] for item in avg_temps]"
   ]
  },
  {
   "cell_type": "code",
   "execution_count": 11,
   "id": "6c31558d-2180-4c25-9a1e-8f464e780370",
   "metadata": {},
   "outputs": [],
   "source": [
    "# Get the temperature from all average temperature readings\n",
    "temps = [item['value'] for item in avg_temps]"
   ]
  },
  {
   "cell_type": "code",
   "execution_count": 12,
   "id": "56aeffd4-677f-4000-a3ae-68598c8559a6",
   "metadata": {},
   "outputs": [],
   "source": [
    "# Create a dataframe for the results\n",
    "df_temp = pd.DataFrame()"
   ]
  },
  {
   "cell_type": "code",
   "execution_count": 13,
   "id": "f6d2eb18-da3e-4c2f-9131-e639ff5a8386",
   "metadata": {},
   "outputs": [],
   "source": [
    "# Get only date and cast it to date time\n",
    "# Convert temperature from tenths of Celsius to normal Celsius\n",
    "df_temp['date'] = [datetime.strptime(d, '%Y-%m-%dT%H:%M:%S') for d in dates_temp]\n",
    "df_temp['avgTemp'] = [float(v)/10.0 for v in temps]"
   ]
  },
  {
   "cell_type": "code",
   "execution_count": 14,
   "id": "d789b248-0e09-4574-92af-65789bb50f0a",
   "metadata": {},
   "outputs": [
    {
     "data": {
      "text/html": [
       "<div>\n",
       "<style scoped>\n",
       "    .dataframe tbody tr th:only-of-type {\n",
       "        vertical-align: middle;\n",
       "    }\n",
       "\n",
       "    .dataframe tbody tr th {\n",
       "        vertical-align: top;\n",
       "    }\n",
       "\n",
       "    .dataframe thead th {\n",
       "        text-align: right;\n",
       "    }\n",
       "</style>\n",
       "<table border=\"1\" class=\"dataframe\">\n",
       "  <thead>\n",
       "    <tr style=\"text-align: right;\">\n",
       "      <th></th>\n",
       "      <th>date</th>\n",
       "      <th>avgTemp</th>\n",
       "    </tr>\n",
       "  </thead>\n",
       "  <tbody>\n",
       "    <tr>\n",
       "      <th>0</th>\n",
       "      <td>2022-01-01</td>\n",
       "      <td>11.6</td>\n",
       "    </tr>\n",
       "    <tr>\n",
       "      <th>1</th>\n",
       "      <td>2022-01-02</td>\n",
       "      <td>11.4</td>\n",
       "    </tr>\n",
       "    <tr>\n",
       "      <th>2</th>\n",
       "      <td>2022-01-03</td>\n",
       "      <td>1.4</td>\n",
       "    </tr>\n",
       "    <tr>\n",
       "      <th>3</th>\n",
       "      <td>2022-01-04</td>\n",
       "      <td>-2.7</td>\n",
       "    </tr>\n",
       "    <tr>\n",
       "      <th>4</th>\n",
       "      <td>2022-01-05</td>\n",
       "      <td>3.2</td>\n",
       "    </tr>\n",
       "  </tbody>\n",
       "</table>\n",
       "</div>"
      ],
      "text/plain": [
       "        date  avgTemp\n",
       "0 2022-01-01     11.6\n",
       "1 2022-01-02     11.4\n",
       "2 2022-01-03      1.4\n",
       "3 2022-01-04     -2.7\n",
       "4 2022-01-05      3.2"
      ]
     },
     "execution_count": 14,
     "metadata": {},
     "output_type": "execute_result"
    }
   ],
   "source": [
    "df_temp.head()"
   ]
  },
  {
   "cell_type": "code",
   "execution_count": 15,
   "id": "9608aad1-1a76-4936-ac57-7c4d202c7298",
   "metadata": {},
   "outputs": [],
   "source": [
    "# Export weather data to a csv file\n",
    "df_temp.to_csv('weather_data.csv')"
   ]
  },
  {
   "cell_type": "markdown",
   "id": "33482049-2bdc-40a8-85a3-e506a77a1834",
   "metadata": {},
   "source": [
    "## Merge CitiBike and Weather Dataframes"
   ]
  },
  {
   "cell_type": "code",
   "execution_count": 16,
   "id": "b4ca5298-4ccf-458a-9521-fead0bf36183",
   "metadata": {},
   "outputs": [
    {
     "data": {
      "text/html": [
       "<div>\n",
       "<style scoped>\n",
       "    .dataframe tbody tr th:only-of-type {\n",
       "        vertical-align: middle;\n",
       "    }\n",
       "\n",
       "    .dataframe tbody tr th {\n",
       "        vertical-align: top;\n",
       "    }\n",
       "\n",
       "    .dataframe thead th {\n",
       "        text-align: right;\n",
       "    }\n",
       "</style>\n",
       "<table border=\"1\" class=\"dataframe\">\n",
       "  <thead>\n",
       "    <tr style=\"text-align: right;\">\n",
       "      <th></th>\n",
       "      <th>ride_id</th>\n",
       "      <th>rideable_type</th>\n",
       "      <th>started_at</th>\n",
       "      <th>ended_at</th>\n",
       "      <th>start_station_name</th>\n",
       "      <th>start_station_id</th>\n",
       "      <th>end_station_name</th>\n",
       "      <th>end_station_id</th>\n",
       "      <th>start_lat</th>\n",
       "      <th>start_lng</th>\n",
       "      <th>end_lat</th>\n",
       "      <th>end_lng</th>\n",
       "      <th>member_casual</th>\n",
       "    </tr>\n",
       "  </thead>\n",
       "  <tbody>\n",
       "    <tr>\n",
       "      <th>0</th>\n",
       "      <td>DF208007EE5F9D79</td>\n",
       "      <td>classic_bike</td>\n",
       "      <td>2022-08-26 15:21:44</td>\n",
       "      <td>2022-08-26 15:34:20</td>\n",
       "      <td>Berkeley Pl &amp; 6 Ave</td>\n",
       "      <td>4134.06</td>\n",
       "      <td>Windsor Pl &amp; 8 Ave</td>\n",
       "      <td>3620.02</td>\n",
       "      <td>40.67653</td>\n",
       "      <td>-73.978469</td>\n",
       "      <td>40.660906</td>\n",
       "      <td>-73.983074</td>\n",
       "      <td>member</td>\n",
       "    </tr>\n",
       "  </tbody>\n",
       "</table>\n",
       "</div>"
      ],
      "text/plain": [
       "            ride_id rideable_type           started_at             ended_at  \\\n",
       "0  DF208007EE5F9D79  classic_bike  2022-08-26 15:21:44  2022-08-26 15:34:20   \n",
       "\n",
       "    start_station_name start_station_id    end_station_name end_station_id  \\\n",
       "0  Berkeley Pl & 6 Ave          4134.06  Windsor Pl & 8 Ave        3620.02   \n",
       "\n",
       "   start_lat  start_lng    end_lat    end_lng member_casual  \n",
       "0   40.67653 -73.978469  40.660906 -73.983074        member  "
      ]
     },
     "execution_count": 16,
     "metadata": {},
     "output_type": "execute_result"
    }
   ],
   "source": [
    "df.head(1)"
   ]
  },
  {
   "cell_type": "code",
   "execution_count": 17,
   "id": "35a92a5c-3578-4888-a68e-ee513fe7fbc3",
   "metadata": {},
   "outputs": [
    {
     "name": "stderr",
     "output_type": "stream",
     "text": [
      "/var/folders/4n/51fny6wj15lbcvykgf0dns700000gn/T/ipykernel_84104/480626359.py:2: UserWarning: Parsing dates in %Y-%m-%d %H:%M:%S format when dayfirst=True was specified. Pass `dayfirst=False` or specify a format to silence this warning.\n",
      "  df['started_at'] = pd.to_datetime(df['started_at'], dayfirst = True)\n"
     ]
    }
   ],
   "source": [
    "# Format started_at column in CitiBike data to match date column in weather data\n",
    "df['started_at'] = pd.to_datetime(df['started_at'], dayfirst = True)"
   ]
  },
  {
   "cell_type": "code",
   "execution_count": 18,
   "id": "e1ea49da-53c4-4f9b-ab60-93bb3dec9682",
   "metadata": {},
   "outputs": [],
   "source": [
    "df['date'] = pd.to_datetime(df['started_at'], format='%Y-%m-%d').dt.date"
   ]
  },
  {
   "cell_type": "code",
   "execution_count": 19,
   "id": "0492dc48-e954-4a5b-baeb-ada8c9dcb81d",
   "metadata": {},
   "outputs": [],
   "source": [
    "df['date'] = pd.to_datetime(df['date'])"
   ]
  },
  {
   "cell_type": "code",
   "execution_count": 26,
   "id": "e5d26dde-28c8-4db1-83c9-2cb4e4adedda",
   "metadata": {},
   "outputs": [
    {
     "name": "stdout",
     "output_type": "stream",
     "text": [
      "CPU times: user 48 s, sys: 3min 16s, total: 4min 4s\n",
      "Wall time: 10min 34s\n"
     ]
    }
   ],
   "source": [
    "%%time\n",
    "df_merged = df.merge(df_temp, how = 'left', on = 'date', indicator = True)"
   ]
  },
  {
   "cell_type": "code",
   "execution_count": 27,
   "id": "7f05508a-6f02-4f83-a799-6ccb6ff0d58d",
   "metadata": {},
   "outputs": [
    {
     "data": {
      "text/plain": [
       "(30689921, 16)"
      ]
     },
     "execution_count": 27,
     "metadata": {},
     "output_type": "execute_result"
    }
   ],
   "source": [
    "df_merged.shape"
   ]
  },
  {
   "cell_type": "code",
   "execution_count": 28,
   "id": "6e03bed0-3b71-4037-a49b-c2427a67d5db",
   "metadata": {},
   "outputs": [
    {
     "data": {
      "text/html": [
       "<div>\n",
       "<style scoped>\n",
       "    .dataframe tbody tr th:only-of-type {\n",
       "        vertical-align: middle;\n",
       "    }\n",
       "\n",
       "    .dataframe tbody tr th {\n",
       "        vertical-align: top;\n",
       "    }\n",
       "\n",
       "    .dataframe thead th {\n",
       "        text-align: right;\n",
       "    }\n",
       "</style>\n",
       "<table border=\"1\" class=\"dataframe\">\n",
       "  <thead>\n",
       "    <tr style=\"text-align: right;\">\n",
       "      <th></th>\n",
       "      <th>ride_id</th>\n",
       "      <th>rideable_type</th>\n",
       "      <th>started_at</th>\n",
       "      <th>ended_at</th>\n",
       "      <th>start_station_name</th>\n",
       "      <th>start_station_id</th>\n",
       "      <th>end_station_name</th>\n",
       "      <th>end_station_id</th>\n",
       "      <th>start_lat</th>\n",
       "      <th>start_lng</th>\n",
       "      <th>end_lat</th>\n",
       "      <th>end_lng</th>\n",
       "      <th>member_casual</th>\n",
       "      <th>date</th>\n",
       "      <th>avgTemp</th>\n",
       "      <th>_merge</th>\n",
       "    </tr>\n",
       "  </thead>\n",
       "  <tbody>\n",
       "    <tr>\n",
       "      <th>0</th>\n",
       "      <td>DF208007EE5F9D79</td>\n",
       "      <td>classic_bike</td>\n",
       "      <td>2022-08-26 15:21:44</td>\n",
       "      <td>2022-08-26 15:34:20</td>\n",
       "      <td>Berkeley Pl &amp; 6 Ave</td>\n",
       "      <td>4134.06</td>\n",
       "      <td>Windsor Pl &amp; 8 Ave</td>\n",
       "      <td>3620.02</td>\n",
       "      <td>40.676530</td>\n",
       "      <td>-73.978469</td>\n",
       "      <td>40.660906</td>\n",
       "      <td>-73.983074</td>\n",
       "      <td>member</td>\n",
       "      <td>2022-08-26</td>\n",
       "      <td>27.4</td>\n",
       "      <td>both</td>\n",
       "    </tr>\n",
       "    <tr>\n",
       "      <th>1</th>\n",
       "      <td>48A796B4996BACB0</td>\n",
       "      <td>electric_bike</td>\n",
       "      <td>2022-08-03 12:56:29</td>\n",
       "      <td>2022-08-03 13:06:10</td>\n",
       "      <td>21 St &amp; 4 Ave</td>\n",
       "      <td>3668.04</td>\n",
       "      <td>Degraw St &amp; Smith St</td>\n",
       "      <td>4298.05</td>\n",
       "      <td>40.662584</td>\n",
       "      <td>-73.995554</td>\n",
       "      <td>40.682915</td>\n",
       "      <td>-73.993182</td>\n",
       "      <td>member</td>\n",
       "      <td>2022-08-03</td>\n",
       "      <td>27.6</td>\n",
       "      <td>both</td>\n",
       "    </tr>\n",
       "    <tr>\n",
       "      <th>2</th>\n",
       "      <td>AE459F435C0B1D5B</td>\n",
       "      <td>classic_bike</td>\n",
       "      <td>2022-08-11 17:49:47</td>\n",
       "      <td>2022-08-11 18:05:08</td>\n",
       "      <td>48 St &amp; Barnett Ave</td>\n",
       "      <td>6358.05</td>\n",
       "      <td>Queens Plaza North &amp; Crescent St</td>\n",
       "      <td>6429.01</td>\n",
       "      <td>40.750016</td>\n",
       "      <td>-73.915409</td>\n",
       "      <td>40.751102</td>\n",
       "      <td>-73.940737</td>\n",
       "      <td>member</td>\n",
       "      <td>2022-08-11</td>\n",
       "      <td>26.6</td>\n",
       "      <td>both</td>\n",
       "    </tr>\n",
       "    <tr>\n",
       "      <th>3</th>\n",
       "      <td>CA8B4A94620E74C0</td>\n",
       "      <td>electric_bike</td>\n",
       "      <td>2022-08-10 17:25:41</td>\n",
       "      <td>2022-08-10 17:35:23</td>\n",
       "      <td>7 Ave &amp; Central Park South</td>\n",
       "      <td>6912.01</td>\n",
       "      <td>8 Ave &amp; W 33 St</td>\n",
       "      <td>6450.12</td>\n",
       "      <td>40.766741</td>\n",
       "      <td>-73.979069</td>\n",
       "      <td>40.751551</td>\n",
       "      <td>-73.993934</td>\n",
       "      <td>member</td>\n",
       "      <td>2022-08-10</td>\n",
       "      <td>27.2</td>\n",
       "      <td>both</td>\n",
       "    </tr>\n",
       "    <tr>\n",
       "      <th>4</th>\n",
       "      <td>EB85C6F0148BC348</td>\n",
       "      <td>classic_bike</td>\n",
       "      <td>2022-08-31 13:47:12</td>\n",
       "      <td>2022-08-31 14:24:00</td>\n",
       "      <td>Jerome Ave &amp; W 195 St</td>\n",
       "      <td>8653.09</td>\n",
       "      <td>Sherman Ave &amp; E 166 St</td>\n",
       "      <td>8072.06</td>\n",
       "      <td>40.868858</td>\n",
       "      <td>-73.896500</td>\n",
       "      <td>40.831305</td>\n",
       "      <td>-73.917448</td>\n",
       "      <td>member</td>\n",
       "      <td>2022-08-31</td>\n",
       "      <td>25.6</td>\n",
       "      <td>both</td>\n",
       "    </tr>\n",
       "  </tbody>\n",
       "</table>\n",
       "</div>"
      ],
      "text/plain": [
       "            ride_id  rideable_type          started_at             ended_at  \\\n",
       "0  DF208007EE5F9D79   classic_bike 2022-08-26 15:21:44  2022-08-26 15:34:20   \n",
       "1  48A796B4996BACB0  electric_bike 2022-08-03 12:56:29  2022-08-03 13:06:10   \n",
       "2  AE459F435C0B1D5B   classic_bike 2022-08-11 17:49:47  2022-08-11 18:05:08   \n",
       "3  CA8B4A94620E74C0  electric_bike 2022-08-10 17:25:41  2022-08-10 17:35:23   \n",
       "4  EB85C6F0148BC348   classic_bike 2022-08-31 13:47:12  2022-08-31 14:24:00   \n",
       "\n",
       "           start_station_name start_station_id  \\\n",
       "0         Berkeley Pl & 6 Ave          4134.06   \n",
       "1               21 St & 4 Ave          3668.04   \n",
       "2         48 St & Barnett Ave          6358.05   \n",
       "3  7 Ave & Central Park South          6912.01   \n",
       "4       Jerome Ave & W 195 St          8653.09   \n",
       "\n",
       "                   end_station_name end_station_id  start_lat  start_lng  \\\n",
       "0                Windsor Pl & 8 Ave        3620.02  40.676530 -73.978469   \n",
       "1              Degraw St & Smith St        4298.05  40.662584 -73.995554   \n",
       "2  Queens Plaza North & Crescent St        6429.01  40.750016 -73.915409   \n",
       "3                   8 Ave & W 33 St        6450.12  40.766741 -73.979069   \n",
       "4            Sherman Ave & E 166 St        8072.06  40.868858 -73.896500   \n",
       "\n",
       "     end_lat    end_lng member_casual       date  avgTemp _merge  \n",
       "0  40.660906 -73.983074        member 2022-08-26     27.4   both  \n",
       "1  40.682915 -73.993182        member 2022-08-03     27.6   both  \n",
       "2  40.751102 -73.940737        member 2022-08-11     26.6   both  \n",
       "3  40.751551 -73.993934        member 2022-08-10     27.2   both  \n",
       "4  40.831305 -73.917448        member 2022-08-31     25.6   both  "
      ]
     },
     "execution_count": 28,
     "metadata": {},
     "output_type": "execute_result"
    }
   ],
   "source": [
    "df_merged.head()"
   ]
  },
  {
   "cell_type": "code",
   "execution_count": 29,
   "id": "02cc8645-ba26-4799-b864-51caa549c642",
   "metadata": {},
   "outputs": [
    {
     "data": {
      "text/plain": [
       "_merge\n",
       "both          30689921\n",
       "left_only            0\n",
       "right_only           0\n",
       "Name: count, dtype: int64"
      ]
     },
     "execution_count": 29,
     "metadata": {},
     "output_type": "execute_result"
    }
   ],
   "source": [
    "# Check for \n",
    "df_merged['_merge'].value_counts(dropna = False)"
   ]
  },
  {
   "cell_type": "code",
   "execution_count": 30,
   "id": "e64d325a-6f4b-479a-bbc6-bdd6d1c48d9c",
   "metadata": {},
   "outputs": [],
   "source": [
    "# Remove _merge column\n",
    "df_merged.drop('_merge', axis = 1, inplace = True)"
   ]
  },
  {
   "cell_type": "code",
   "execution_count": 31,
   "id": "c1373b92-75ee-458d-93e6-d9ddd0c697f4",
   "metadata": {},
   "outputs": [],
   "source": [
    "df_merged.to_csv('new_york_data.csv')"
   ]
  },
  {
   "cell_type": "code",
   "execution_count": null,
   "id": "cce39633-655a-4ca1-af04-f652655997b9",
   "metadata": {},
   "outputs": [],
   "source": []
  }
 ],
 "metadata": {
  "kernelspec": {
   "display_name": "Python [conda env:venv_citibike]",
   "language": "python",
   "name": "conda-env-venv_citibike-py"
  },
  "language_info": {
   "codemirror_mode": {
    "name": "ipython",
    "version": 3
   },
   "file_extension": ".py",
   "mimetype": "text/x-python",
   "name": "python",
   "nbconvert_exporter": "python",
   "pygments_lexer": "ipython3",
   "version": "3.12.3"
  }
 },
 "nbformat": 4,
 "nbformat_minor": 5
}
