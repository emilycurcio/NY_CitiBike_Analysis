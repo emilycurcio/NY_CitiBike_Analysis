{
 "cells": [
  {
   "cell_type": "markdown",
   "id": "c759f177-4206-4616-b70f-129ee4b7d6fa",
   "metadata": {},
   "source": [
    "# NY CitiBike Analysis: Geospatial Plot"
   ]
  },
  {
   "cell_type": "markdown",
   "id": "6c82aee2-1207-4d40-a3b4-d80e1994893d",
   "metadata": {},
   "source": [
    "## Import Libraries and Load Data"
   ]
  },
  {
   "cell_type": "code",
   "execution_count": 1,
   "id": "7e7ddcc6-b889-4823-a060-dcb62f32e493",
   "metadata": {},
   "outputs": [],
   "source": [
    "# Import libraries\n",
    "import pandas as pd\n",
    "import os\n",
    "from keplergl import KeplerGl\n",
    "from pyproj import CRS\n",
    "import numpy as np\n",
    "from matplotlib import pyplot as plt"
   ]
  },
  {
   "cell_type": "code",
   "execution_count": 2,
   "id": "ea04ee76-96a4-460e-9d71-778f01b181cc",
   "metadata": {},
   "outputs": [
    {
     "name": "stderr",
     "output_type": "stream",
     "text": [
      "/var/folders/4n/51fny6wj15lbcvykgf0dns700000gn/T/ipykernel_17455/2460435638.py:2: DtypeWarning: Columns (6,8) have mixed types. Specify dtype option on import or set low_memory=False.\n",
      "  df = pd.read_csv('new_york_data.csv', index_col = 0)\n"
     ]
    }
   ],
   "source": [
    "# Load data\n",
    "df = pd.read_csv('new_york_data.csv', index_col = 0)"
   ]
  },
  {
   "cell_type": "code",
   "execution_count": 3,
   "id": "4b9bffaa-8797-4735-ad3e-748fa133552a",
   "metadata": {},
   "outputs": [
    {
     "data": {
      "text/html": [
       "<div>\n",
       "<style scoped>\n",
       "    .dataframe tbody tr th:only-of-type {\n",
       "        vertical-align: middle;\n",
       "    }\n",
       "\n",
       "    .dataframe tbody tr th {\n",
       "        vertical-align: top;\n",
       "    }\n",
       "\n",
       "    .dataframe thead th {\n",
       "        text-align: right;\n",
       "    }\n",
       "</style>\n",
       "<table border=\"1\" class=\"dataframe\">\n",
       "  <thead>\n",
       "    <tr style=\"text-align: right;\">\n",
       "      <th></th>\n",
       "      <th>ride_id</th>\n",
       "      <th>rideable_type</th>\n",
       "      <th>started_at</th>\n",
       "      <th>ended_at</th>\n",
       "      <th>start_station_name</th>\n",
       "      <th>start_station_id</th>\n",
       "      <th>end_station_name</th>\n",
       "      <th>end_station_id</th>\n",
       "      <th>start_lat</th>\n",
       "      <th>start_lng</th>\n",
       "      <th>end_lat</th>\n",
       "      <th>end_lng</th>\n",
       "      <th>member_casual</th>\n",
       "      <th>date</th>\n",
       "      <th>avgTemp</th>\n",
       "      <th>value</th>\n",
       "      <th>bike_rides_daily</th>\n",
       "    </tr>\n",
       "  </thead>\n",
       "  <tbody>\n",
       "    <tr>\n",
       "      <th>0</th>\n",
       "      <td>DF208007EE5F9D79</td>\n",
       "      <td>classic_bike</td>\n",
       "      <td>2022-08-26 15:21:44</td>\n",
       "      <td>2022-08-26 15:34:20</td>\n",
       "      <td>Berkeley Pl &amp; 6 Ave</td>\n",
       "      <td>4134.06</td>\n",
       "      <td>Windsor Pl &amp; 8 Ave</td>\n",
       "      <td>3620.02</td>\n",
       "      <td>40.676530</td>\n",
       "      <td>-73.978469</td>\n",
       "      <td>40.660906</td>\n",
       "      <td>-73.983074</td>\n",
       "      <td>member</td>\n",
       "      <td>2022-08-26</td>\n",
       "      <td>27.4</td>\n",
       "      <td>1</td>\n",
       "      <td>111955</td>\n",
       "    </tr>\n",
       "    <tr>\n",
       "      <th>1</th>\n",
       "      <td>4BF322F1E0D74152</td>\n",
       "      <td>classic_bike</td>\n",
       "      <td>2022-08-26 16:08:53</td>\n",
       "      <td>2022-08-26 16:17:48</td>\n",
       "      <td>W 44 St &amp; 11 Ave</td>\n",
       "      <td>6756.05</td>\n",
       "      <td>8 Ave &amp; W 33 St</td>\n",
       "      <td>6450.12</td>\n",
       "      <td>40.762009</td>\n",
       "      <td>-73.996975</td>\n",
       "      <td>40.751551</td>\n",
       "      <td>-73.993934</td>\n",
       "      <td>member</td>\n",
       "      <td>2022-08-26</td>\n",
       "      <td>27.4</td>\n",
       "      <td>1</td>\n",
       "      <td>111955</td>\n",
       "    </tr>\n",
       "    <tr>\n",
       "      <th>2</th>\n",
       "      <td>301E3D811B0D5219</td>\n",
       "      <td>classic_bike</td>\n",
       "      <td>2022-08-26 02:34:33</td>\n",
       "      <td>2022-08-26 08:29:41</td>\n",
       "      <td>9 Ave &amp; W 45 St</td>\n",
       "      <td>6717.06</td>\n",
       "      <td>8 Ave &amp; W 33 St</td>\n",
       "      <td>6450.12</td>\n",
       "      <td>40.760193</td>\n",
       "      <td>-73.991255</td>\n",
       "      <td>40.751551</td>\n",
       "      <td>-73.993934</td>\n",
       "      <td>member</td>\n",
       "      <td>2022-08-26</td>\n",
       "      <td>27.4</td>\n",
       "      <td>1</td>\n",
       "      <td>111955</td>\n",
       "    </tr>\n",
       "    <tr>\n",
       "      <th>3</th>\n",
       "      <td>7D4E20D0A43FCE1F</td>\n",
       "      <td>classic_bike</td>\n",
       "      <td>2022-08-26 11:25:26</td>\n",
       "      <td>2022-08-26 11:52:19</td>\n",
       "      <td>Central Ave &amp; Covert St</td>\n",
       "      <td>4550.05</td>\n",
       "      <td>DeKalb Ave &amp; Hudson Ave</td>\n",
       "      <td>4513.06</td>\n",
       "      <td>40.689290</td>\n",
       "      <td>-73.909510</td>\n",
       "      <td>40.689888</td>\n",
       "      <td>-73.981013</td>\n",
       "      <td>casual</td>\n",
       "      <td>2022-08-26</td>\n",
       "      <td>27.4</td>\n",
       "      <td>1</td>\n",
       "      <td>111955</td>\n",
       "    </tr>\n",
       "    <tr>\n",
       "      <th>4</th>\n",
       "      <td>BB560C341D35EB7D</td>\n",
       "      <td>electric_bike</td>\n",
       "      <td>2022-08-26 19:46:08</td>\n",
       "      <td>2022-08-26 19:48:11</td>\n",
       "      <td>21 St &amp; 43 Ave</td>\n",
       "      <td>6395.01</td>\n",
       "      <td>9 St &amp; 44 Rd</td>\n",
       "      <td>6361.03</td>\n",
       "      <td>40.750525</td>\n",
       "      <td>-73.945948</td>\n",
       "      <td>40.749660</td>\n",
       "      <td>-73.952100</td>\n",
       "      <td>member</td>\n",
       "      <td>2022-08-26</td>\n",
       "      <td>27.4</td>\n",
       "      <td>1</td>\n",
       "      <td>111955</td>\n",
       "    </tr>\n",
       "  </tbody>\n",
       "</table>\n",
       "</div>"
      ],
      "text/plain": [
       "            ride_id  rideable_type           started_at             ended_at  \\\n",
       "0  DF208007EE5F9D79   classic_bike  2022-08-26 15:21:44  2022-08-26 15:34:20   \n",
       "1  4BF322F1E0D74152   classic_bike  2022-08-26 16:08:53  2022-08-26 16:17:48   \n",
       "2  301E3D811B0D5219   classic_bike  2022-08-26 02:34:33  2022-08-26 08:29:41   \n",
       "3  7D4E20D0A43FCE1F   classic_bike  2022-08-26 11:25:26  2022-08-26 11:52:19   \n",
       "4  BB560C341D35EB7D  electric_bike  2022-08-26 19:46:08  2022-08-26 19:48:11   \n",
       "\n",
       "        start_station_name start_station_id         end_station_name  \\\n",
       "0      Berkeley Pl & 6 Ave          4134.06       Windsor Pl & 8 Ave   \n",
       "1         W 44 St & 11 Ave          6756.05          8 Ave & W 33 St   \n",
       "2          9 Ave & W 45 St          6717.06          8 Ave & W 33 St   \n",
       "3  Central Ave & Covert St          4550.05  DeKalb Ave & Hudson Ave   \n",
       "4           21 St & 43 Ave          6395.01             9 St & 44 Rd   \n",
       "\n",
       "  end_station_id  start_lat  start_lng    end_lat    end_lng member_casual  \\\n",
       "0        3620.02  40.676530 -73.978469  40.660906 -73.983074        member   \n",
       "1        6450.12  40.762009 -73.996975  40.751551 -73.993934        member   \n",
       "2        6450.12  40.760193 -73.991255  40.751551 -73.993934        member   \n",
       "3        4513.06  40.689290 -73.909510  40.689888 -73.981013        casual   \n",
       "4        6361.03  40.750525 -73.945948  40.749660 -73.952100        member   \n",
       "\n",
       "         date  avgTemp  value  bike_rides_daily  \n",
       "0  2022-08-26     27.4      1            111955  \n",
       "1  2022-08-26     27.4      1            111955  \n",
       "2  2022-08-26     27.4      1            111955  \n",
       "3  2022-08-26     27.4      1            111955  \n",
       "4  2022-08-26     27.4      1            111955  "
      ]
     },
     "execution_count": 3,
     "metadata": {},
     "output_type": "execute_result"
    }
   ],
   "source": [
    "df.head()"
   ]
  },
  {
   "cell_type": "markdown",
   "id": "b6225194-15d5-4383-9163-9711c3f701bc",
   "metadata": {},
   "source": [
    "## Data Preprocessing"
   ]
  },
  {
   "cell_type": "code",
   "execution_count": 4,
   "id": "8fe291d2-d85c-495d-b3c8-c87a769cd89d",
   "metadata": {},
   "outputs": [],
   "source": [
    "# Take random sample of df\n",
    "percentage = 0.001\n",
    "subset_size = int(len(df) * percentage)"
   ]
  },
  {
   "cell_type": "code",
   "execution_count": 5,
   "id": "46c2eaff-1c99-425d-947f-80891bcbc9c8",
   "metadata": {},
   "outputs": [],
   "source": [
    "df_subset = df.sample(n = subset_size)"
   ]
  },
  {
   "cell_type": "code",
   "execution_count": 6,
   "id": "052286ce-75de-4301-a13e-dee4c8f0a4ef",
   "metadata": {},
   "outputs": [
    {
     "data": {
      "text/plain": [
       "(30689, 17)"
      ]
     },
     "execution_count": 6,
     "metadata": {},
     "output_type": "execute_result"
    }
   ],
   "source": [
    "df_subset.shape"
   ]
  },
  {
   "cell_type": "code",
   "execution_count": 7,
   "id": "6d4d160a-f6e1-4a5d-a332-21e51de48886",
   "metadata": {},
   "outputs": [
    {
     "data": {
      "text/html": [
       "<div>\n",
       "<style scoped>\n",
       "    .dataframe tbody tr th:only-of-type {\n",
       "        vertical-align: middle;\n",
       "    }\n",
       "\n",
       "    .dataframe tbody tr th {\n",
       "        vertical-align: top;\n",
       "    }\n",
       "\n",
       "    .dataframe thead th {\n",
       "        text-align: right;\n",
       "    }\n",
       "</style>\n",
       "<table border=\"1\" class=\"dataframe\">\n",
       "  <thead>\n",
       "    <tr style=\"text-align: right;\">\n",
       "      <th></th>\n",
       "      <th>ride_id</th>\n",
       "      <th>rideable_type</th>\n",
       "      <th>started_at</th>\n",
       "      <th>ended_at</th>\n",
       "      <th>start_station_name</th>\n",
       "      <th>start_station_id</th>\n",
       "      <th>end_station_name</th>\n",
       "      <th>end_station_id</th>\n",
       "      <th>start_lat</th>\n",
       "      <th>start_lng</th>\n",
       "      <th>end_lat</th>\n",
       "      <th>end_lng</th>\n",
       "      <th>member_casual</th>\n",
       "      <th>date</th>\n",
       "      <th>avgTemp</th>\n",
       "      <th>value</th>\n",
       "      <th>bike_rides_daily</th>\n",
       "    </tr>\n",
       "  </thead>\n",
       "  <tbody>\n",
       "    <tr>\n",
       "      <th>29824686</th>\n",
       "      <td>DDCE235CF727D34F</td>\n",
       "      <td>classic_bike</td>\n",
       "      <td>2022-12-07 19:13:05</td>\n",
       "      <td>2022-12-07 19:34:58</td>\n",
       "      <td>W 27 St &amp; 7 Ave</td>\n",
       "      <td>6247.06</td>\n",
       "      <td>E 45 St &amp; 3 Ave</td>\n",
       "      <td>6464.08</td>\n",
       "      <td>40.746647</td>\n",
       "      <td>-73.993915</td>\n",
       "      <td>40.752554</td>\n",
       "      <td>-73.972826</td>\n",
       "      <td>casual</td>\n",
       "      <td>2022-12-07</td>\n",
       "      <td>13.8</td>\n",
       "      <td>1</td>\n",
       "      <td>76862</td>\n",
       "    </tr>\n",
       "    <tr>\n",
       "      <th>16486601</th>\n",
       "      <td>3EC677B6728E518D</td>\n",
       "      <td>electric_bike</td>\n",
       "      <td>2022-06-12 14:55:39</td>\n",
       "      <td>2022-06-12 15:08:37</td>\n",
       "      <td>E 20 St &amp; FDR Dr</td>\n",
       "      <td>5886.13</td>\n",
       "      <td>E 7 St &amp; Ave B</td>\n",
       "      <td>5584.05</td>\n",
       "      <td>40.733209</td>\n",
       "      <td>-73.975681</td>\n",
       "      <td>40.725129</td>\n",
       "      <td>-73.981317</td>\n",
       "      <td>member</td>\n",
       "      <td>2022-06-12</td>\n",
       "      <td>20.5</td>\n",
       "      <td>1</td>\n",
       "      <td>92658</td>\n",
       "    </tr>\n",
       "    <tr>\n",
       "      <th>11574941</th>\n",
       "      <td>18B25B4F643BEFFE</td>\n",
       "      <td>electric_bike</td>\n",
       "      <td>2022-11-02 18:30:34</td>\n",
       "      <td>2022-11-02 19:12:19</td>\n",
       "      <td>Central Park West &amp; W 72 St</td>\n",
       "      <td>7141.07</td>\n",
       "      <td>Washington Square E</td>\n",
       "      <td>5755.09</td>\n",
       "      <td>40.775794</td>\n",
       "      <td>-73.976206</td>\n",
       "      <td>40.730494</td>\n",
       "      <td>-73.995721</td>\n",
       "      <td>casual</td>\n",
       "      <td>2022-11-02</td>\n",
       "      <td>17.6</td>\n",
       "      <td>1</td>\n",
       "      <td>121039</td>\n",
       "    </tr>\n",
       "    <tr>\n",
       "      <th>10744025</th>\n",
       "      <td>99F4CC47B9BD5FF5</td>\n",
       "      <td>electric_bike</td>\n",
       "      <td>2022-04-11 16:45:02</td>\n",
       "      <td>2022-04-11 16:49:55</td>\n",
       "      <td>E 16 St &amp; 5 Ave</td>\n",
       "      <td>6022.04</td>\n",
       "      <td>W 21 St &amp; 6 Ave</td>\n",
       "      <td>6140.05</td>\n",
       "      <td>40.737262</td>\n",
       "      <td>-73.992390</td>\n",
       "      <td>40.741740</td>\n",
       "      <td>-73.994156</td>\n",
       "      <td>casual</td>\n",
       "      <td>2022-04-11</td>\n",
       "      <td>8.8</td>\n",
       "      <td>1</td>\n",
       "      <td>77371</td>\n",
       "    </tr>\n",
       "    <tr>\n",
       "      <th>17186439</th>\n",
       "      <td>9540001D16D850C5</td>\n",
       "      <td>classic_bike</td>\n",
       "      <td>2022-06-05 21:54:17</td>\n",
       "      <td>2022-06-05 22:17:04</td>\n",
       "      <td>Hudson St &amp; W 13 St</td>\n",
       "      <td>6115.06</td>\n",
       "      <td>8 Ave &amp; W 52 St</td>\n",
       "      <td>6816.07</td>\n",
       "      <td>40.740057</td>\n",
       "      <td>-74.005274</td>\n",
       "      <td>40.763707</td>\n",
       "      <td>-73.985162</td>\n",
       "      <td>member</td>\n",
       "      <td>2022-06-05</td>\n",
       "      <td>20.0</td>\n",
       "      <td>1</td>\n",
       "      <td>118762</td>\n",
       "    </tr>\n",
       "  </tbody>\n",
       "</table>\n",
       "</div>"
      ],
      "text/plain": [
       "                   ride_id  rideable_type           started_at  \\\n",
       "29824686  DDCE235CF727D34F   classic_bike  2022-12-07 19:13:05   \n",
       "16486601  3EC677B6728E518D  electric_bike  2022-06-12 14:55:39   \n",
       "11574941  18B25B4F643BEFFE  electric_bike  2022-11-02 18:30:34   \n",
       "10744025  99F4CC47B9BD5FF5  electric_bike  2022-04-11 16:45:02   \n",
       "17186439  9540001D16D850C5   classic_bike  2022-06-05 21:54:17   \n",
       "\n",
       "                     ended_at           start_station_name start_station_id  \\\n",
       "29824686  2022-12-07 19:34:58              W 27 St & 7 Ave          6247.06   \n",
       "16486601  2022-06-12 15:08:37             E 20 St & FDR Dr          5886.13   \n",
       "11574941  2022-11-02 19:12:19  Central Park West & W 72 St          7141.07   \n",
       "10744025  2022-04-11 16:49:55              E 16 St & 5 Ave          6022.04   \n",
       "17186439  2022-06-05 22:17:04          Hudson St & W 13 St          6115.06   \n",
       "\n",
       "             end_station_name end_station_id  start_lat  start_lng    end_lat  \\\n",
       "29824686      E 45 St & 3 Ave        6464.08  40.746647 -73.993915  40.752554   \n",
       "16486601       E 7 St & Ave B        5584.05  40.733209 -73.975681  40.725129   \n",
       "11574941  Washington Square E        5755.09  40.775794 -73.976206  40.730494   \n",
       "10744025      W 21 St & 6 Ave        6140.05  40.737262 -73.992390  40.741740   \n",
       "17186439      8 Ave & W 52 St        6816.07  40.740057 -74.005274  40.763707   \n",
       "\n",
       "            end_lng member_casual        date  avgTemp  value  \\\n",
       "29824686 -73.972826        casual  2022-12-07     13.8      1   \n",
       "16486601 -73.981317        member  2022-06-12     20.5      1   \n",
       "11574941 -73.995721        casual  2022-11-02     17.6      1   \n",
       "10744025 -73.994156        casual  2022-04-11      8.8      1   \n",
       "17186439 -73.985162        member  2022-06-05     20.0      1   \n",
       "\n",
       "          bike_rides_daily  \n",
       "29824686             76862  \n",
       "16486601             92658  \n",
       "11574941            121039  \n",
       "10744025             77371  \n",
       "17186439            118762  "
      ]
     },
     "execution_count": 7,
     "metadata": {},
     "output_type": "execute_result"
    }
   ],
   "source": [
    "df_subset.head()"
   ]
  },
  {
   "cell_type": "code",
   "execution_count": 8,
   "id": "7efa93d8-4556-4e09-9ad8-7aeebae3d8c7",
   "metadata": {},
   "outputs": [],
   "source": [
    "# Group by start and end station\n",
    "df_group = df_subset.groupby(['start_station_name', 'end_station_name'])['value'].count().reset_index()"
   ]
  },
  {
   "cell_type": "code",
   "execution_count": 9,
   "id": "e0675fec-b505-4916-b246-bb30323ab0b5",
   "metadata": {},
   "outputs": [],
   "source": [
    "df_group.rename(columns = {'from_station_name': 'start_station_name', 'to_station_name': 'end_station_name',\n",
    "                          'value': 'trips'}, inplace = True)"
   ]
  },
  {
   "cell_type": "code",
   "execution_count": 10,
   "id": "9017bd59-ef93-4fa7-99a0-e78fdc4b39df",
   "metadata": {},
   "outputs": [
    {
     "data": {
      "text/plain": [
       "(26088, 3)"
      ]
     },
     "execution_count": 10,
     "metadata": {},
     "output_type": "execute_result"
    }
   ],
   "source": [
    "df_group.shape"
   ]
  },
  {
   "cell_type": "code",
   "execution_count": 11,
   "id": "41ec6da7-6a1f-4b5f-989f-4a10fbaa418f",
   "metadata": {},
   "outputs": [
    {
     "data": {
      "text/html": [
       "<div>\n",
       "<style scoped>\n",
       "    .dataframe tbody tr th:only-of-type {\n",
       "        vertical-align: middle;\n",
       "    }\n",
       "\n",
       "    .dataframe tbody tr th {\n",
       "        vertical-align: top;\n",
       "    }\n",
       "\n",
       "    .dataframe thead th {\n",
       "        text-align: right;\n",
       "    }\n",
       "</style>\n",
       "<table border=\"1\" class=\"dataframe\">\n",
       "  <thead>\n",
       "    <tr style=\"text-align: right;\">\n",
       "      <th></th>\n",
       "      <th>start_station_name</th>\n",
       "      <th>end_station_name</th>\n",
       "      <th>trips</th>\n",
       "    </tr>\n",
       "  </thead>\n",
       "  <tbody>\n",
       "    <tr>\n",
       "      <th>0</th>\n",
       "      <td>1 Ave &amp; E 110 St</td>\n",
       "      <td>1 Ave &amp; E 110 St</td>\n",
       "      <td>1</td>\n",
       "    </tr>\n",
       "    <tr>\n",
       "      <th>1</th>\n",
       "      <td>1 Ave &amp; E 110 St</td>\n",
       "      <td>3 Ave &amp; E 112 St</td>\n",
       "      <td>1</td>\n",
       "    </tr>\n",
       "    <tr>\n",
       "      <th>2</th>\n",
       "      <td>1 Ave &amp; E 110 St</td>\n",
       "      <td>E 102 St &amp; Park Ave</td>\n",
       "      <td>1</td>\n",
       "    </tr>\n",
       "    <tr>\n",
       "      <th>3</th>\n",
       "      <td>1 Ave &amp; E 110 St</td>\n",
       "      <td>E 141 St &amp; Jackson Ave</td>\n",
       "      <td>1</td>\n",
       "    </tr>\n",
       "    <tr>\n",
       "      <th>4</th>\n",
       "      <td>1 Ave &amp; E 110 St</td>\n",
       "      <td>E 72 St &amp; York Ave</td>\n",
       "      <td>1</td>\n",
       "    </tr>\n",
       "  </tbody>\n",
       "</table>\n",
       "</div>"
      ],
      "text/plain": [
       "  start_station_name        end_station_name  trips\n",
       "0   1 Ave & E 110 St        1 Ave & E 110 St      1\n",
       "1   1 Ave & E 110 St        3 Ave & E 112 St      1\n",
       "2   1 Ave & E 110 St     E 102 St & Park Ave      1\n",
       "3   1 Ave & E 110 St  E 141 St & Jackson Ave      1\n",
       "4   1 Ave & E 110 St      E 72 St & York Ave      1"
      ]
     },
     "execution_count": 11,
     "metadata": {},
     "output_type": "execute_result"
    }
   ],
   "source": [
    "df_group.head()"
   ]
  },
  {
   "cell_type": "code",
   "execution_count": 12,
   "id": "3c16dd40-08fd-47d2-80b8-3f5b4f6266d7",
   "metadata": {},
   "outputs": [],
   "source": [
    "# Subset of start stations\n",
    "start_stations = df_subset[['start_station_name', 'start_lat', 'start_lng']]"
   ]
  },
  {
   "cell_type": "code",
   "execution_count": 13,
   "id": "1fde4634-eff1-4746-9392-b9559151d074",
   "metadata": {},
   "outputs": [
    {
     "name": "stderr",
     "output_type": "stream",
     "text": [
      "/var/folders/4n/51fny6wj15lbcvykgf0dns700000gn/T/ipykernel_17455/2821924927.py:1: SettingWithCopyWarning: \n",
      "A value is trying to be set on a copy of a slice from a DataFrame\n",
      "\n",
      "See the caveats in the documentation: https://pandas.pydata.org/pandas-docs/stable/user_guide/indexing.html#returning-a-view-versus-a-copy\n",
      "  start_stations.rename(columns = {'start_station_name': 'station', 'start_lat': 'lat', 'start_lng': 'lng'}, inplace = True)\n"
     ]
    }
   ],
   "source": [
    "start_stations.rename(columns = {'start_station_name': 'station', 'start_lat': 'lat', 'start_lng': 'lng'}, inplace = True)"
   ]
  },
  {
   "cell_type": "code",
   "execution_count": 14,
   "id": "d2820e50-4bee-4513-a258-46560b402b29",
   "metadata": {},
   "outputs": [
    {
     "data": {
      "text/plain": [
       "(30689, 3)"
      ]
     },
     "execution_count": 14,
     "metadata": {},
     "output_type": "execute_result"
    }
   ],
   "source": [
    "start_stations.shape"
   ]
  },
  {
   "cell_type": "code",
   "execution_count": 15,
   "id": "431fbce7-df6b-4956-8e93-817c2b970ee1",
   "metadata": {},
   "outputs": [
    {
     "data": {
      "text/html": [
       "<div>\n",
       "<style scoped>\n",
       "    .dataframe tbody tr th:only-of-type {\n",
       "        vertical-align: middle;\n",
       "    }\n",
       "\n",
       "    .dataframe tbody tr th {\n",
       "        vertical-align: top;\n",
       "    }\n",
       "\n",
       "    .dataframe thead th {\n",
       "        text-align: right;\n",
       "    }\n",
       "</style>\n",
       "<table border=\"1\" class=\"dataframe\">\n",
       "  <thead>\n",
       "    <tr style=\"text-align: right;\">\n",
       "      <th></th>\n",
       "      <th>station</th>\n",
       "      <th>lat</th>\n",
       "      <th>lng</th>\n",
       "    </tr>\n",
       "  </thead>\n",
       "  <tbody>\n",
       "    <tr>\n",
       "      <th>29824686</th>\n",
       "      <td>W 27 St &amp; 7 Ave</td>\n",
       "      <td>40.746647</td>\n",
       "      <td>-73.993915</td>\n",
       "    </tr>\n",
       "    <tr>\n",
       "      <th>16486601</th>\n",
       "      <td>E 20 St &amp; FDR Dr</td>\n",
       "      <td>40.733209</td>\n",
       "      <td>-73.975681</td>\n",
       "    </tr>\n",
       "    <tr>\n",
       "      <th>11574941</th>\n",
       "      <td>Central Park West &amp; W 72 St</td>\n",
       "      <td>40.775794</td>\n",
       "      <td>-73.976206</td>\n",
       "    </tr>\n",
       "    <tr>\n",
       "      <th>10744025</th>\n",
       "      <td>E 16 St &amp; 5 Ave</td>\n",
       "      <td>40.737262</td>\n",
       "      <td>-73.992390</td>\n",
       "    </tr>\n",
       "    <tr>\n",
       "      <th>17186439</th>\n",
       "      <td>Hudson St &amp; W 13 St</td>\n",
       "      <td>40.740057</td>\n",
       "      <td>-74.005274</td>\n",
       "    </tr>\n",
       "  </tbody>\n",
       "</table>\n",
       "</div>"
      ],
      "text/plain": [
       "                              station        lat        lng\n",
       "29824686              W 27 St & 7 Ave  40.746647 -73.993915\n",
       "16486601             E 20 St & FDR Dr  40.733209 -73.975681\n",
       "11574941  Central Park West & W 72 St  40.775794 -73.976206\n",
       "10744025              E 16 St & 5 Ave  40.737262 -73.992390\n",
       "17186439          Hudson St & W 13 St  40.740057 -74.005274"
      ]
     },
     "execution_count": 15,
     "metadata": {},
     "output_type": "execute_result"
    }
   ],
   "source": [
    "start_stations.head()"
   ]
  },
  {
   "cell_type": "code",
   "execution_count": 16,
   "id": "1f8ba848-5e96-497b-b5ad-b6ffc9213e91",
   "metadata": {},
   "outputs": [],
   "source": [
    "# Subset of end stations\n",
    "end_stations = df_subset[['end_station_name', 'end_lat', 'end_lng']]"
   ]
  },
  {
   "cell_type": "code",
   "execution_count": 17,
   "id": "54ffd444-5a1f-4b16-9767-fd918611b21a",
   "metadata": {},
   "outputs": [
    {
     "name": "stderr",
     "output_type": "stream",
     "text": [
      "/var/folders/4n/51fny6wj15lbcvykgf0dns700000gn/T/ipykernel_17455/2736427096.py:1: SettingWithCopyWarning: \n",
      "A value is trying to be set on a copy of a slice from a DataFrame\n",
      "\n",
      "See the caveats in the documentation: https://pandas.pydata.org/pandas-docs/stable/user_guide/indexing.html#returning-a-view-versus-a-copy\n",
      "  end_stations.rename(columns = {'end_station_name': 'station', 'end_lat': 'lat', 'end_lng': 'lng'}, inplace = True)\n"
     ]
    }
   ],
   "source": [
    "end_stations.rename(columns = {'end_station_name': 'station', 'end_lat': 'lat', 'end_lng': 'lng'}, inplace = True)"
   ]
  },
  {
   "cell_type": "code",
   "execution_count": 18,
   "id": "9a827fcb-7ebd-4ed2-9c03-0f5ee2ea53e5",
   "metadata": {},
   "outputs": [
    {
     "data": {
      "text/plain": [
       "(30689, 3)"
      ]
     },
     "execution_count": 18,
     "metadata": {},
     "output_type": "execute_result"
    }
   ],
   "source": [
    "end_stations.shape"
   ]
  },
  {
   "cell_type": "code",
   "execution_count": 19,
   "id": "49d1f4d3-aaf7-4851-8f10-e9ace49a070c",
   "metadata": {},
   "outputs": [
    {
     "data": {
      "text/html": [
       "<div>\n",
       "<style scoped>\n",
       "    .dataframe tbody tr th:only-of-type {\n",
       "        vertical-align: middle;\n",
       "    }\n",
       "\n",
       "    .dataframe tbody tr th {\n",
       "        vertical-align: top;\n",
       "    }\n",
       "\n",
       "    .dataframe thead th {\n",
       "        text-align: right;\n",
       "    }\n",
       "</style>\n",
       "<table border=\"1\" class=\"dataframe\">\n",
       "  <thead>\n",
       "    <tr style=\"text-align: right;\">\n",
       "      <th></th>\n",
       "      <th>station</th>\n",
       "      <th>lat</th>\n",
       "      <th>lng</th>\n",
       "    </tr>\n",
       "  </thead>\n",
       "  <tbody>\n",
       "    <tr>\n",
       "      <th>29824686</th>\n",
       "      <td>E 45 St &amp; 3 Ave</td>\n",
       "      <td>40.752554</td>\n",
       "      <td>-73.972826</td>\n",
       "    </tr>\n",
       "    <tr>\n",
       "      <th>16486601</th>\n",
       "      <td>E 7 St &amp; Ave B</td>\n",
       "      <td>40.725129</td>\n",
       "      <td>-73.981317</td>\n",
       "    </tr>\n",
       "    <tr>\n",
       "      <th>11574941</th>\n",
       "      <td>Washington Square E</td>\n",
       "      <td>40.730494</td>\n",
       "      <td>-73.995721</td>\n",
       "    </tr>\n",
       "    <tr>\n",
       "      <th>10744025</th>\n",
       "      <td>W 21 St &amp; 6 Ave</td>\n",
       "      <td>40.741740</td>\n",
       "      <td>-73.994156</td>\n",
       "    </tr>\n",
       "    <tr>\n",
       "      <th>17186439</th>\n",
       "      <td>8 Ave &amp; W 52 St</td>\n",
       "      <td>40.763707</td>\n",
       "      <td>-73.985162</td>\n",
       "    </tr>\n",
       "  </tbody>\n",
       "</table>\n",
       "</div>"
      ],
      "text/plain": [
       "                      station        lat        lng\n",
       "29824686      E 45 St & 3 Ave  40.752554 -73.972826\n",
       "16486601       E 7 St & Ave B  40.725129 -73.981317\n",
       "11574941  Washington Square E  40.730494 -73.995721\n",
       "10744025      W 21 St & 6 Ave  40.741740 -73.994156\n",
       "17186439      8 Ave & W 52 St  40.763707 -73.985162"
      ]
     },
     "execution_count": 19,
     "metadata": {},
     "output_type": "execute_result"
    }
   ],
   "source": [
    "end_stations.head()"
   ]
  },
  {
   "cell_type": "code",
   "execution_count": 20,
   "id": "28ea1456-427f-4381-af5d-b46ff7db6293",
   "metadata": {},
   "outputs": [],
   "source": [
    "# Combine to create df of stations and their coordinates\n",
    "df_stations = pd.concat([start_stations, end_stations])"
   ]
  },
  {
   "cell_type": "code",
   "execution_count": 21,
   "id": "27e3bdd6-8730-4e13-b253-88062d4c3302",
   "metadata": {},
   "outputs": [],
   "source": [
    "df_stations['start_station_name'] = df_stations['station']"
   ]
  },
  {
   "cell_type": "code",
   "execution_count": 22,
   "id": "7a2653ba-1397-4413-9364-d65bed034495",
   "metadata": {},
   "outputs": [],
   "source": [
    "df_stations['end_station_name'] = df_stations['station']"
   ]
  },
  {
   "cell_type": "code",
   "execution_count": 23,
   "id": "97c680c5-79b2-484e-b1c8-54f814933e1a",
   "metadata": {},
   "outputs": [],
   "source": [
    "df_stations.drop('station', axis = 1, inplace = True)"
   ]
  },
  {
   "cell_type": "code",
   "execution_count": 24,
   "id": "8a1dcf72-c4ce-44e5-b7b8-60e528c8fbee",
   "metadata": {},
   "outputs": [],
   "source": [
    "df_stations.reset_index(drop = True, inplace = True)"
   ]
  },
  {
   "cell_type": "code",
   "execution_count": 25,
   "id": "771a864c-06eb-4c3c-800c-d7f442524fc6",
   "metadata": {},
   "outputs": [],
   "source": [
    "df_stations = df_stations.drop_duplicates()"
   ]
  },
  {
   "cell_type": "code",
   "execution_count": 26,
   "id": "3c402d57-db87-4165-8ef3-558e9be719a9",
   "metadata": {},
   "outputs": [
    {
     "data": {
      "text/plain": [
       "(6000, 4)"
      ]
     },
     "execution_count": 26,
     "metadata": {},
     "output_type": "execute_result"
    }
   ],
   "source": [
    "df_stations.shape"
   ]
  },
  {
   "cell_type": "code",
   "execution_count": 27,
   "id": "69965f43-d9c1-4ef0-8bd7-e037824183a7",
   "metadata": {},
   "outputs": [
    {
     "data": {
      "text/html": [
       "<div>\n",
       "<style scoped>\n",
       "    .dataframe tbody tr th:only-of-type {\n",
       "        vertical-align: middle;\n",
       "    }\n",
       "\n",
       "    .dataframe tbody tr th {\n",
       "        vertical-align: top;\n",
       "    }\n",
       "\n",
       "    .dataframe thead th {\n",
       "        text-align: right;\n",
       "    }\n",
       "</style>\n",
       "<table border=\"1\" class=\"dataframe\">\n",
       "  <thead>\n",
       "    <tr style=\"text-align: right;\">\n",
       "      <th></th>\n",
       "      <th>lat</th>\n",
       "      <th>lng</th>\n",
       "      <th>start_station_name</th>\n",
       "      <th>end_station_name</th>\n",
       "    </tr>\n",
       "  </thead>\n",
       "  <tbody>\n",
       "    <tr>\n",
       "      <th>0</th>\n",
       "      <td>40.746647</td>\n",
       "      <td>-73.993915</td>\n",
       "      <td>W 27 St &amp; 7 Ave</td>\n",
       "      <td>W 27 St &amp; 7 Ave</td>\n",
       "    </tr>\n",
       "    <tr>\n",
       "      <th>1</th>\n",
       "      <td>40.733209</td>\n",
       "      <td>-73.975681</td>\n",
       "      <td>E 20 St &amp; FDR Dr</td>\n",
       "      <td>E 20 St &amp; FDR Dr</td>\n",
       "    </tr>\n",
       "    <tr>\n",
       "      <th>2</th>\n",
       "      <td>40.775794</td>\n",
       "      <td>-73.976206</td>\n",
       "      <td>Central Park West &amp; W 72 St</td>\n",
       "      <td>Central Park West &amp; W 72 St</td>\n",
       "    </tr>\n",
       "    <tr>\n",
       "      <th>3</th>\n",
       "      <td>40.737262</td>\n",
       "      <td>-73.992390</td>\n",
       "      <td>E 16 St &amp; 5 Ave</td>\n",
       "      <td>E 16 St &amp; 5 Ave</td>\n",
       "    </tr>\n",
       "    <tr>\n",
       "      <th>4</th>\n",
       "      <td>40.740057</td>\n",
       "      <td>-74.005274</td>\n",
       "      <td>Hudson St &amp; W 13 St</td>\n",
       "      <td>Hudson St &amp; W 13 St</td>\n",
       "    </tr>\n",
       "  </tbody>\n",
       "</table>\n",
       "</div>"
      ],
      "text/plain": [
       "         lat        lng           start_station_name  \\\n",
       "0  40.746647 -73.993915              W 27 St & 7 Ave   \n",
       "1  40.733209 -73.975681             E 20 St & FDR Dr   \n",
       "2  40.775794 -73.976206  Central Park West & W 72 St   \n",
       "3  40.737262 -73.992390              E 16 St & 5 Ave   \n",
       "4  40.740057 -74.005274          Hudson St & W 13 St   \n",
       "\n",
       "              end_station_name  \n",
       "0              W 27 St & 7 Ave  \n",
       "1             E 20 St & FDR Dr  \n",
       "2  Central Park West & W 72 St  \n",
       "3              E 16 St & 5 Ave  \n",
       "4          Hudson St & W 13 St  "
      ]
     },
     "execution_count": 27,
     "metadata": {},
     "output_type": "execute_result"
    }
   ],
   "source": [
    "df_stations.head()"
   ]
  },
  {
   "cell_type": "code",
   "execution_count": 28,
   "id": "72e37297-0e99-4296-b698-fbf547c1367b",
   "metadata": {},
   "outputs": [],
   "source": [
    "# Merge df_group with df_stations on start_station_name\n",
    "df_m = df_group.merge(df_stations, how = 'outer', on = \"start_station_name\", indicator = 'merge_flag')"
   ]
  },
  {
   "cell_type": "code",
   "execution_count": 29,
   "id": "2eeffdee-e1e1-4359-8f0e-800777f4ee53",
   "metadata": {},
   "outputs": [
    {
     "data": {
      "text/plain": [
       "(26088, 3)"
      ]
     },
     "execution_count": 29,
     "metadata": {},
     "output_type": "execute_result"
    }
   ],
   "source": [
    "df_group.shape"
   ]
  },
  {
   "cell_type": "code",
   "execution_count": 30,
   "id": "fc1888cd-b012-4442-9439-156782ed3d64",
   "metadata": {},
   "outputs": [
    {
     "data": {
      "text/plain": [
       "(6000, 4)"
      ]
     },
     "execution_count": 30,
     "metadata": {},
     "output_type": "execute_result"
    }
   ],
   "source": [
    "df_stations.shape"
   ]
  },
  {
   "cell_type": "code",
   "execution_count": 31,
   "id": "6c500390-2101-4d87-a4ab-aec9a72858e1",
   "metadata": {},
   "outputs": [
    {
     "data": {
      "text/plain": [
       "(156847, 7)"
      ]
     },
     "execution_count": 31,
     "metadata": {},
     "output_type": "execute_result"
    }
   ],
   "source": [
    "df_m.shape"
   ]
  },
  {
   "cell_type": "code",
   "execution_count": 32,
   "id": "05da0d71-b7c5-4d00-92a1-8c0d404005fd",
   "metadata": {},
   "outputs": [
    {
     "data": {
      "text/html": [
       "<div>\n",
       "<style scoped>\n",
       "    .dataframe tbody tr th:only-of-type {\n",
       "        vertical-align: middle;\n",
       "    }\n",
       "\n",
       "    .dataframe tbody tr th {\n",
       "        vertical-align: top;\n",
       "    }\n",
       "\n",
       "    .dataframe thead th {\n",
       "        text-align: right;\n",
       "    }\n",
       "</style>\n",
       "<table border=\"1\" class=\"dataframe\">\n",
       "  <thead>\n",
       "    <tr style=\"text-align: right;\">\n",
       "      <th></th>\n",
       "      <th>start_station_name</th>\n",
       "      <th>end_station_name_x</th>\n",
       "      <th>trips</th>\n",
       "      <th>lat</th>\n",
       "      <th>lng</th>\n",
       "      <th>end_station_name_y</th>\n",
       "      <th>merge_flag</th>\n",
       "    </tr>\n",
       "  </thead>\n",
       "  <tbody>\n",
       "    <tr>\n",
       "      <th>0</th>\n",
       "      <td>1 Ave &amp; E 110 St</td>\n",
       "      <td>1 Ave &amp; E 110 St</td>\n",
       "      <td>1.0</td>\n",
       "      <td>40.792327</td>\n",
       "      <td>-73.938300</td>\n",
       "      <td>1 Ave &amp; E 110 St</td>\n",
       "      <td>both</td>\n",
       "    </tr>\n",
       "    <tr>\n",
       "      <th>1</th>\n",
       "      <td>1 Ave &amp; E 110 St</td>\n",
       "      <td>1 Ave &amp; E 110 St</td>\n",
       "      <td>1.0</td>\n",
       "      <td>40.792347</td>\n",
       "      <td>-73.937864</td>\n",
       "      <td>1 Ave &amp; E 110 St</td>\n",
       "      <td>both</td>\n",
       "    </tr>\n",
       "    <tr>\n",
       "      <th>2</th>\n",
       "      <td>1 Ave &amp; E 110 St</td>\n",
       "      <td>1 Ave &amp; E 110 St</td>\n",
       "      <td>1.0</td>\n",
       "      <td>40.792410</td>\n",
       "      <td>-73.938120</td>\n",
       "      <td>1 Ave &amp; E 110 St</td>\n",
       "      <td>both</td>\n",
       "    </tr>\n",
       "    <tr>\n",
       "      <th>3</th>\n",
       "      <td>1 Ave &amp; E 110 St</td>\n",
       "      <td>1 Ave &amp; E 110 St</td>\n",
       "      <td>1.0</td>\n",
       "      <td>40.792336</td>\n",
       "      <td>-73.937981</td>\n",
       "      <td>1 Ave &amp; E 110 St</td>\n",
       "      <td>both</td>\n",
       "    </tr>\n",
       "    <tr>\n",
       "      <th>4</th>\n",
       "      <td>1 Ave &amp; E 110 St</td>\n",
       "      <td>1 Ave &amp; E 110 St</td>\n",
       "      <td>1.0</td>\n",
       "      <td>40.792433</td>\n",
       "      <td>-73.938261</td>\n",
       "      <td>1 Ave &amp; E 110 St</td>\n",
       "      <td>both</td>\n",
       "    </tr>\n",
       "  </tbody>\n",
       "</table>\n",
       "</div>"
      ],
      "text/plain": [
       "  start_station_name end_station_name_x  trips        lat        lng  \\\n",
       "0   1 Ave & E 110 St   1 Ave & E 110 St    1.0  40.792327 -73.938300   \n",
       "1   1 Ave & E 110 St   1 Ave & E 110 St    1.0  40.792347 -73.937864   \n",
       "2   1 Ave & E 110 St   1 Ave & E 110 St    1.0  40.792410 -73.938120   \n",
       "3   1 Ave & E 110 St   1 Ave & E 110 St    1.0  40.792336 -73.937981   \n",
       "4   1 Ave & E 110 St   1 Ave & E 110 St    1.0  40.792433 -73.938261   \n",
       "\n",
       "  end_station_name_y merge_flag  \n",
       "0   1 Ave & E 110 St       both  \n",
       "1   1 Ave & E 110 St       both  \n",
       "2   1 Ave & E 110 St       both  \n",
       "3   1 Ave & E 110 St       both  \n",
       "4   1 Ave & E 110 St       both  "
      ]
     },
     "execution_count": 32,
     "metadata": {},
     "output_type": "execute_result"
    }
   ],
   "source": [
    "df_m.head()"
   ]
  },
  {
   "cell_type": "code",
   "execution_count": 33,
   "id": "584fd987-70a2-4e45-a857-2ea53a6920ac",
   "metadata": {},
   "outputs": [
    {
     "data": {
      "text/plain": [
       "merge_flag\n",
       "both          156749\n",
       "right_only        98\n",
       "left_only          0\n",
       "Name: count, dtype: int64"
      ]
     },
     "execution_count": 33,
     "metadata": {},
     "output_type": "execute_result"
    }
   ],
   "source": [
    "df_m['merge_flag'].value_counts(dropna = False)"
   ]
  },
  {
   "cell_type": "code",
   "execution_count": 34,
   "id": "c04e3069-e606-4a64-8752-ef6d68f95c50",
   "metadata": {},
   "outputs": [],
   "source": [
    "df_m = df_m[df_m['merge_flag'] =='both']"
   ]
  },
  {
   "cell_type": "code",
   "execution_count": 35,
   "id": "9c1b89c6-0fde-425c-b31e-71cedbe30c9e",
   "metadata": {},
   "outputs": [
    {
     "data": {
      "text/plain": [
       "(156749, 7)"
      ]
     },
     "execution_count": 35,
     "metadata": {},
     "output_type": "execute_result"
    }
   ],
   "source": [
    "df_m.shape"
   ]
  },
  {
   "cell_type": "code",
   "execution_count": 36,
   "id": "4366b083-71b6-4d7e-8ece-a15d5da90272",
   "metadata": {},
   "outputs": [
    {
     "data": {
      "text/html": [
       "<div>\n",
       "<style scoped>\n",
       "    .dataframe tbody tr th:only-of-type {\n",
       "        vertical-align: middle;\n",
       "    }\n",
       "\n",
       "    .dataframe tbody tr th {\n",
       "        vertical-align: top;\n",
       "    }\n",
       "\n",
       "    .dataframe thead th {\n",
       "        text-align: right;\n",
       "    }\n",
       "</style>\n",
       "<table border=\"1\" class=\"dataframe\">\n",
       "  <thead>\n",
       "    <tr style=\"text-align: right;\">\n",
       "      <th></th>\n",
       "      <th>start_station_name</th>\n",
       "      <th>end_station_name_x</th>\n",
       "      <th>trips</th>\n",
       "      <th>lat</th>\n",
       "      <th>lng</th>\n",
       "      <th>end_station_name_y</th>\n",
       "      <th>merge_flag</th>\n",
       "    </tr>\n",
       "  </thead>\n",
       "  <tbody>\n",
       "    <tr>\n",
       "      <th>0</th>\n",
       "      <td>1 Ave &amp; E 110 St</td>\n",
       "      <td>1 Ave &amp; E 110 St</td>\n",
       "      <td>1.0</td>\n",
       "      <td>40.792327</td>\n",
       "      <td>-73.938300</td>\n",
       "      <td>1 Ave &amp; E 110 St</td>\n",
       "      <td>both</td>\n",
       "    </tr>\n",
       "    <tr>\n",
       "      <th>1</th>\n",
       "      <td>1 Ave &amp; E 110 St</td>\n",
       "      <td>1 Ave &amp; E 110 St</td>\n",
       "      <td>1.0</td>\n",
       "      <td>40.792347</td>\n",
       "      <td>-73.937864</td>\n",
       "      <td>1 Ave &amp; E 110 St</td>\n",
       "      <td>both</td>\n",
       "    </tr>\n",
       "    <tr>\n",
       "      <th>2</th>\n",
       "      <td>1 Ave &amp; E 110 St</td>\n",
       "      <td>1 Ave &amp; E 110 St</td>\n",
       "      <td>1.0</td>\n",
       "      <td>40.792410</td>\n",
       "      <td>-73.938120</td>\n",
       "      <td>1 Ave &amp; E 110 St</td>\n",
       "      <td>both</td>\n",
       "    </tr>\n",
       "    <tr>\n",
       "      <th>3</th>\n",
       "      <td>1 Ave &amp; E 110 St</td>\n",
       "      <td>1 Ave &amp; E 110 St</td>\n",
       "      <td>1.0</td>\n",
       "      <td>40.792336</td>\n",
       "      <td>-73.937981</td>\n",
       "      <td>1 Ave &amp; E 110 St</td>\n",
       "      <td>both</td>\n",
       "    </tr>\n",
       "    <tr>\n",
       "      <th>4</th>\n",
       "      <td>1 Ave &amp; E 110 St</td>\n",
       "      <td>1 Ave &amp; E 110 St</td>\n",
       "      <td>1.0</td>\n",
       "      <td>40.792433</td>\n",
       "      <td>-73.938261</td>\n",
       "      <td>1 Ave &amp; E 110 St</td>\n",
       "      <td>both</td>\n",
       "    </tr>\n",
       "  </tbody>\n",
       "</table>\n",
       "</div>"
      ],
      "text/plain": [
       "  start_station_name end_station_name_x  trips        lat        lng  \\\n",
       "0   1 Ave & E 110 St   1 Ave & E 110 St    1.0  40.792327 -73.938300   \n",
       "1   1 Ave & E 110 St   1 Ave & E 110 St    1.0  40.792347 -73.937864   \n",
       "2   1 Ave & E 110 St   1 Ave & E 110 St    1.0  40.792410 -73.938120   \n",
       "3   1 Ave & E 110 St   1 Ave & E 110 St    1.0  40.792336 -73.937981   \n",
       "4   1 Ave & E 110 St   1 Ave & E 110 St    1.0  40.792433 -73.938261   \n",
       "\n",
       "  end_station_name_y merge_flag  \n",
       "0   1 Ave & E 110 St       both  \n",
       "1   1 Ave & E 110 St       both  \n",
       "2   1 Ave & E 110 St       both  \n",
       "3   1 Ave & E 110 St       both  \n",
       "4   1 Ave & E 110 St       both  "
      ]
     },
     "execution_count": 36,
     "metadata": {},
     "output_type": "execute_result"
    }
   ],
   "source": [
    "df_m.head()"
   ]
  },
  {
   "cell_type": "code",
   "execution_count": 37,
   "id": "05a4c999-56d9-4ba9-b3d7-6b6d3ee0c026",
   "metadata": {},
   "outputs": [],
   "source": [
    "df_m.drop(columns = {'end_station_name_y'}, inplace = True)"
   ]
  },
  {
   "cell_type": "code",
   "execution_count": 38,
   "id": "b0d33776-15ab-431c-b4e7-123bdef0bf45",
   "metadata": {},
   "outputs": [],
   "source": [
    "df_m.rename(columns = {'end_station_name_x' : 'end_station_name'}, inplace = True)"
   ]
  },
  {
   "cell_type": "code",
   "execution_count": 39,
   "id": "4c56160a-d601-4459-9ec7-1c019902f091",
   "metadata": {},
   "outputs": [
    {
     "data": {
      "text/html": [
       "<div>\n",
       "<style scoped>\n",
       "    .dataframe tbody tr th:only-of-type {\n",
       "        vertical-align: middle;\n",
       "    }\n",
       "\n",
       "    .dataframe tbody tr th {\n",
       "        vertical-align: top;\n",
       "    }\n",
       "\n",
       "    .dataframe thead th {\n",
       "        text-align: right;\n",
       "    }\n",
       "</style>\n",
       "<table border=\"1\" class=\"dataframe\">\n",
       "  <thead>\n",
       "    <tr style=\"text-align: right;\">\n",
       "      <th></th>\n",
       "      <th>start_station_name</th>\n",
       "      <th>end_station_name</th>\n",
       "      <th>trips</th>\n",
       "      <th>lat</th>\n",
       "      <th>lng</th>\n",
       "      <th>merge_flag</th>\n",
       "    </tr>\n",
       "  </thead>\n",
       "  <tbody>\n",
       "    <tr>\n",
       "      <th>0</th>\n",
       "      <td>1 Ave &amp; E 110 St</td>\n",
       "      <td>1 Ave &amp; E 110 St</td>\n",
       "      <td>1.0</td>\n",
       "      <td>40.792327</td>\n",
       "      <td>-73.938300</td>\n",
       "      <td>both</td>\n",
       "    </tr>\n",
       "    <tr>\n",
       "      <th>1</th>\n",
       "      <td>1 Ave &amp; E 110 St</td>\n",
       "      <td>1 Ave &amp; E 110 St</td>\n",
       "      <td>1.0</td>\n",
       "      <td>40.792347</td>\n",
       "      <td>-73.937864</td>\n",
       "      <td>both</td>\n",
       "    </tr>\n",
       "    <tr>\n",
       "      <th>2</th>\n",
       "      <td>1 Ave &amp; E 110 St</td>\n",
       "      <td>1 Ave &amp; E 110 St</td>\n",
       "      <td>1.0</td>\n",
       "      <td>40.792410</td>\n",
       "      <td>-73.938120</td>\n",
       "      <td>both</td>\n",
       "    </tr>\n",
       "    <tr>\n",
       "      <th>3</th>\n",
       "      <td>1 Ave &amp; E 110 St</td>\n",
       "      <td>1 Ave &amp; E 110 St</td>\n",
       "      <td>1.0</td>\n",
       "      <td>40.792336</td>\n",
       "      <td>-73.937981</td>\n",
       "      <td>both</td>\n",
       "    </tr>\n",
       "    <tr>\n",
       "      <th>4</th>\n",
       "      <td>1 Ave &amp; E 110 St</td>\n",
       "      <td>1 Ave &amp; E 110 St</td>\n",
       "      <td>1.0</td>\n",
       "      <td>40.792433</td>\n",
       "      <td>-73.938261</td>\n",
       "      <td>both</td>\n",
       "    </tr>\n",
       "  </tbody>\n",
       "</table>\n",
       "</div>"
      ],
      "text/plain": [
       "  start_station_name  end_station_name  trips        lat        lng merge_flag\n",
       "0   1 Ave & E 110 St  1 Ave & E 110 St    1.0  40.792327 -73.938300       both\n",
       "1   1 Ave & E 110 St  1 Ave & E 110 St    1.0  40.792347 -73.937864       both\n",
       "2   1 Ave & E 110 St  1 Ave & E 110 St    1.0  40.792410 -73.938120       both\n",
       "3   1 Ave & E 110 St  1 Ave & E 110 St    1.0  40.792336 -73.937981       both\n",
       "4   1 Ave & E 110 St  1 Ave & E 110 St    1.0  40.792433 -73.938261       both"
      ]
     },
     "execution_count": 39,
     "metadata": {},
     "output_type": "execute_result"
    }
   ],
   "source": [
    "df_m.head()"
   ]
  },
  {
   "cell_type": "code",
   "execution_count": 40,
   "id": "ceb646a8-2f2b-4f08-9b10-2d88c78a0f90",
   "metadata": {},
   "outputs": [],
   "source": [
    "# Merge df_m with df_stations on end_station_name\n",
    "df_final = df_m.merge(df_stations, how = 'outer', on = 'end_station_name', indicator = 'merge_flag_2')"
   ]
  },
  {
   "cell_type": "code",
   "execution_count": 41,
   "id": "7b9f97c1-cd17-4c0d-9699-62a70e695933",
   "metadata": {},
   "outputs": [
    {
     "data": {
      "text/plain": [
       "merge_flag_2\n",
       "both          1009279\n",
       "right_only        106\n",
       "left_only           0\n",
       "Name: count, dtype: int64"
      ]
     },
     "execution_count": 41,
     "metadata": {},
     "output_type": "execute_result"
    }
   ],
   "source": [
    "df_final['merge_flag_2'].value_counts(dropna = False)"
   ]
  },
  {
   "cell_type": "code",
   "execution_count": 42,
   "id": "e6d2495d-6c18-41e5-8d68-59c12f6e3201",
   "metadata": {},
   "outputs": [
    {
     "data": {
      "text/html": [
       "<div>\n",
       "<style scoped>\n",
       "    .dataframe tbody tr th:only-of-type {\n",
       "        vertical-align: middle;\n",
       "    }\n",
       "\n",
       "    .dataframe tbody tr th {\n",
       "        vertical-align: top;\n",
       "    }\n",
       "\n",
       "    .dataframe thead th {\n",
       "        text-align: right;\n",
       "    }\n",
       "</style>\n",
       "<table border=\"1\" class=\"dataframe\">\n",
       "  <thead>\n",
       "    <tr style=\"text-align: right;\">\n",
       "      <th></th>\n",
       "      <th>start_station_name_x</th>\n",
       "      <th>end_station_name</th>\n",
       "      <th>trips</th>\n",
       "      <th>lat_x</th>\n",
       "      <th>lng_x</th>\n",
       "      <th>merge_flag</th>\n",
       "      <th>lat_y</th>\n",
       "      <th>lng_y</th>\n",
       "      <th>start_station_name_y</th>\n",
       "      <th>merge_flag_2</th>\n",
       "    </tr>\n",
       "  </thead>\n",
       "  <tbody>\n",
       "    <tr>\n",
       "      <th>0</th>\n",
       "      <td>1 Ave &amp; E 110 St</td>\n",
       "      <td>1 Ave &amp; E 110 St</td>\n",
       "      <td>1.0</td>\n",
       "      <td>40.792327</td>\n",
       "      <td>-73.9383</td>\n",
       "      <td>both</td>\n",
       "      <td>40.792327</td>\n",
       "      <td>-73.938300</td>\n",
       "      <td>1 Ave &amp; E 110 St</td>\n",
       "      <td>both</td>\n",
       "    </tr>\n",
       "    <tr>\n",
       "      <th>1</th>\n",
       "      <td>1 Ave &amp; E 110 St</td>\n",
       "      <td>1 Ave &amp; E 110 St</td>\n",
       "      <td>1.0</td>\n",
       "      <td>40.792327</td>\n",
       "      <td>-73.9383</td>\n",
       "      <td>both</td>\n",
       "      <td>40.792347</td>\n",
       "      <td>-73.937864</td>\n",
       "      <td>1 Ave &amp; E 110 St</td>\n",
       "      <td>both</td>\n",
       "    </tr>\n",
       "    <tr>\n",
       "      <th>2</th>\n",
       "      <td>1 Ave &amp; E 110 St</td>\n",
       "      <td>1 Ave &amp; E 110 St</td>\n",
       "      <td>1.0</td>\n",
       "      <td>40.792327</td>\n",
       "      <td>-73.9383</td>\n",
       "      <td>both</td>\n",
       "      <td>40.792410</td>\n",
       "      <td>-73.938120</td>\n",
       "      <td>1 Ave &amp; E 110 St</td>\n",
       "      <td>both</td>\n",
       "    </tr>\n",
       "    <tr>\n",
       "      <th>3</th>\n",
       "      <td>1 Ave &amp; E 110 St</td>\n",
       "      <td>1 Ave &amp; E 110 St</td>\n",
       "      <td>1.0</td>\n",
       "      <td>40.792327</td>\n",
       "      <td>-73.9383</td>\n",
       "      <td>both</td>\n",
       "      <td>40.792336</td>\n",
       "      <td>-73.937981</td>\n",
       "      <td>1 Ave &amp; E 110 St</td>\n",
       "      <td>both</td>\n",
       "    </tr>\n",
       "    <tr>\n",
       "      <th>4</th>\n",
       "      <td>1 Ave &amp; E 110 St</td>\n",
       "      <td>1 Ave &amp; E 110 St</td>\n",
       "      <td>1.0</td>\n",
       "      <td>40.792327</td>\n",
       "      <td>-73.9383</td>\n",
       "      <td>both</td>\n",
       "      <td>40.792433</td>\n",
       "      <td>-73.938261</td>\n",
       "      <td>1 Ave &amp; E 110 St</td>\n",
       "      <td>both</td>\n",
       "    </tr>\n",
       "  </tbody>\n",
       "</table>\n",
       "</div>"
      ],
      "text/plain": [
       "  start_station_name_x  end_station_name  trips      lat_x    lng_x  \\\n",
       "0     1 Ave & E 110 St  1 Ave & E 110 St    1.0  40.792327 -73.9383   \n",
       "1     1 Ave & E 110 St  1 Ave & E 110 St    1.0  40.792327 -73.9383   \n",
       "2     1 Ave & E 110 St  1 Ave & E 110 St    1.0  40.792327 -73.9383   \n",
       "3     1 Ave & E 110 St  1 Ave & E 110 St    1.0  40.792327 -73.9383   \n",
       "4     1 Ave & E 110 St  1 Ave & E 110 St    1.0  40.792327 -73.9383   \n",
       "\n",
       "  merge_flag      lat_y      lng_y start_station_name_y merge_flag_2  \n",
       "0       both  40.792327 -73.938300     1 Ave & E 110 St         both  \n",
       "1       both  40.792347 -73.937864     1 Ave & E 110 St         both  \n",
       "2       both  40.792410 -73.938120     1 Ave & E 110 St         both  \n",
       "3       both  40.792336 -73.937981     1 Ave & E 110 St         both  \n",
       "4       both  40.792433 -73.938261     1 Ave & E 110 St         both  "
      ]
     },
     "execution_count": 42,
     "metadata": {},
     "output_type": "execute_result"
    }
   ],
   "source": [
    "df_final.head()"
   ]
  },
  {
   "cell_type": "code",
   "execution_count": 43,
   "id": "58263727-1746-48e5-9893-098934a66919",
   "metadata": {},
   "outputs": [],
   "source": [
    "df_final = df_final[df_final['merge_flag_2'] =='both']"
   ]
  },
  {
   "cell_type": "code",
   "execution_count": 44,
   "id": "c9b643a1-667d-4115-b4bb-8702e2f37462",
   "metadata": {},
   "outputs": [],
   "source": [
    "df_final.drop(columns = {'start_station_name_y', 'merge_flag', 'merge_flag_2'}, inplace = True)"
   ]
  },
  {
   "cell_type": "code",
   "execution_count": 45,
   "id": "c7260a7c-e570-4d65-9197-b6c6765c3ae0",
   "metadata": {},
   "outputs": [],
   "source": [
    "df_final.rename(columns = {'start_station_name_x' : 'start_station_name'}, inplace = True)"
   ]
  },
  {
   "cell_type": "code",
   "execution_count": 46,
   "id": "7f132ba8-ef88-48a2-a60b-c1493fd7dd76",
   "metadata": {},
   "outputs": [],
   "source": [
    "df_final.rename(columns = {'start_station_name_x' : 'start_station_name', 'lat_x' : 'start_lat',\n",
    "                           'lng_x' : 'start_lon', 'lat_y' : 'end_lat', 'lng_y' : 'end_lon',}, inplace = True)"
   ]
  },
  {
   "cell_type": "code",
   "execution_count": 47,
   "id": "56e87193-fd0c-4341-b7de-73b315ae71b8",
   "metadata": {},
   "outputs": [
    {
     "data": {
      "text/plain": [
       "0"
      ]
     },
     "execution_count": 47,
     "metadata": {},
     "output_type": "execute_result"
    }
   ],
   "source": [
    "import gc # this is garbage collector - speeds up performance\n",
    "gc.collect()"
   ]
  },
  {
   "cell_type": "code",
   "execution_count": 48,
   "id": "9a6b00b0-1dd5-4094-a62e-de5863ac4c31",
   "metadata": {},
   "outputs": [
    {
     "data": {
      "text/html": [
       "<div>\n",
       "<style scoped>\n",
       "    .dataframe tbody tr th:only-of-type {\n",
       "        vertical-align: middle;\n",
       "    }\n",
       "\n",
       "    .dataframe tbody tr th {\n",
       "        vertical-align: top;\n",
       "    }\n",
       "\n",
       "    .dataframe thead th {\n",
       "        text-align: right;\n",
       "    }\n",
       "</style>\n",
       "<table border=\"1\" class=\"dataframe\">\n",
       "  <thead>\n",
       "    <tr style=\"text-align: right;\">\n",
       "      <th></th>\n",
       "      <th>start_station_name</th>\n",
       "      <th>end_station_name</th>\n",
       "      <th>trips</th>\n",
       "      <th>start_lat</th>\n",
       "      <th>start_lon</th>\n",
       "      <th>end_lat</th>\n",
       "      <th>end_lon</th>\n",
       "    </tr>\n",
       "  </thead>\n",
       "  <tbody>\n",
       "    <tr>\n",
       "      <th>0</th>\n",
       "      <td>1 Ave &amp; E 110 St</td>\n",
       "      <td>1 Ave &amp; E 110 St</td>\n",
       "      <td>1.0</td>\n",
       "      <td>40.792327</td>\n",
       "      <td>-73.9383</td>\n",
       "      <td>40.792327</td>\n",
       "      <td>-73.938300</td>\n",
       "    </tr>\n",
       "    <tr>\n",
       "      <th>1</th>\n",
       "      <td>1 Ave &amp; E 110 St</td>\n",
       "      <td>1 Ave &amp; E 110 St</td>\n",
       "      <td>1.0</td>\n",
       "      <td>40.792327</td>\n",
       "      <td>-73.9383</td>\n",
       "      <td>40.792347</td>\n",
       "      <td>-73.937864</td>\n",
       "    </tr>\n",
       "    <tr>\n",
       "      <th>2</th>\n",
       "      <td>1 Ave &amp; E 110 St</td>\n",
       "      <td>1 Ave &amp; E 110 St</td>\n",
       "      <td>1.0</td>\n",
       "      <td>40.792327</td>\n",
       "      <td>-73.9383</td>\n",
       "      <td>40.792410</td>\n",
       "      <td>-73.938120</td>\n",
       "    </tr>\n",
       "    <tr>\n",
       "      <th>3</th>\n",
       "      <td>1 Ave &amp; E 110 St</td>\n",
       "      <td>1 Ave &amp; E 110 St</td>\n",
       "      <td>1.0</td>\n",
       "      <td>40.792327</td>\n",
       "      <td>-73.9383</td>\n",
       "      <td>40.792336</td>\n",
       "      <td>-73.937981</td>\n",
       "    </tr>\n",
       "    <tr>\n",
       "      <th>4</th>\n",
       "      <td>1 Ave &amp; E 110 St</td>\n",
       "      <td>1 Ave &amp; E 110 St</td>\n",
       "      <td>1.0</td>\n",
       "      <td>40.792327</td>\n",
       "      <td>-73.9383</td>\n",
       "      <td>40.792433</td>\n",
       "      <td>-73.938261</td>\n",
       "    </tr>\n",
       "  </tbody>\n",
       "</table>\n",
       "</div>"
      ],
      "text/plain": [
       "  start_station_name  end_station_name  trips  start_lat  start_lon  \\\n",
       "0   1 Ave & E 110 St  1 Ave & E 110 St    1.0  40.792327   -73.9383   \n",
       "1   1 Ave & E 110 St  1 Ave & E 110 St    1.0  40.792327   -73.9383   \n",
       "2   1 Ave & E 110 St  1 Ave & E 110 St    1.0  40.792327   -73.9383   \n",
       "3   1 Ave & E 110 St  1 Ave & E 110 St    1.0  40.792327   -73.9383   \n",
       "4   1 Ave & E 110 St  1 Ave & E 110 St    1.0  40.792327   -73.9383   \n",
       "\n",
       "     end_lat    end_lon  \n",
       "0  40.792327 -73.938300  \n",
       "1  40.792347 -73.937864  \n",
       "2  40.792410 -73.938120  \n",
       "3  40.792336 -73.937981  \n",
       "4  40.792433 -73.938261  "
      ]
     },
     "execution_count": 48,
     "metadata": {},
     "output_type": "execute_result"
    }
   ],
   "source": [
    "df_final.head()"
   ]
  },
  {
   "cell_type": "code",
   "execution_count": 49,
   "id": "796d7dff-258d-45fa-9bfc-d975121815cd",
   "metadata": {},
   "outputs": [],
   "source": [
    "# Export df_final as csv\n",
    "df_final.to_csv('df_final_locations_for_map.csv')"
   ]
  },
  {
   "cell_type": "code",
   "execution_count": 2,
   "id": "78cb82e6",
   "metadata": {},
   "outputs": [],
   "source": [
    "# Load df_final\n",
    "df_final = pd.read_csv('df_final_locations_for_map.csv', index_col = 0)"
   ]
  },
  {
   "cell_type": "markdown",
   "id": "c5d8f126-83ca-40ac-88a9-84d0e8e694a8",
   "metadata": {},
   "source": [
    "## Initialize kepler.gl"
   ]
  },
  {
   "cell_type": "code",
   "execution_count": 3,
   "id": "cefd131e-0050-4f12-9bb5-d5c0fb5cdfb7",
   "metadata": {},
   "outputs": [
    {
     "name": "stdout",
     "output_type": "stream",
     "text": [
      "User Guide: https://docs.kepler.gl/docs/keplergl-jupyter\n"
     ]
    },
    {
     "data": {
      "application/vnd.jupyter.widget-view+json": {
       "model_id": "be2d187648cf4fd286b4898a36e1bf1d",
       "version_major": 2,
       "version_minor": 0
      },
      "text/plain": [
       "KeplerGl(data={'data_1':             start_station_name       end_station_name  trips  start_lat  \\\n",
       "0         …"
      ]
     },
     "metadata": {},
     "output_type": "display_data"
    }
   ],
   "source": [
    "# Create KeplerGl instance\n",
    "m = KeplerGl(height = 700, data = {'data_1': df_final})\n",
    "m"
   ]
  },
  {
   "cell_type": "markdown",
   "id": "7491e31b",
   "metadata": {},
   "source": [
    "#### I changed the following settings:\n",
    "\n",
    "#### Under layers I made the start points and end points visible and green because that follows the color scheme of my other plots. Also under layers, I made the start to end arcs visible and set them to be green at the source and yellow at the target in order to identify the starting and ending stations on a path.\n",
    "\n",
    "#### Under filters I applied a trips filter and set it to show paths with a minimum of 5 trips. This was in order to make the map more readable, since there were too many overlapping paths to clearly see any trends or draw any information from the map.\n",
    "\n",
    "\n",
    "#### Also noteworthy:\n",
    "\n",
    "#### My first impression was that Manhattan is clearly the busiest area of the city for the bikes. The data suggests that some of the longer distance trips are between stations located close to the water. This body of water is Newark Bay, and there also appear to be several parks along the water side. The increased amount of trips in this area could be due to it being a more scenic spot to ride a bike, attracting not just commuters but also sight-seers. Also noteworthy are the stations that do not have an arc connecting to them, indicating that trips both started and ended at the same location. Several of these are on the edges of parks, for example, which likely indicates the bikes were used to ride around the park."
   ]
  },
  {
   "cell_type": "code",
   "execution_count": 4,
   "id": "80fcd3fa-acef-43a5-ad98-5d9c4052b578",
   "metadata": {},
   "outputs": [],
   "source": [
    "# Create a config object and save your map with it\n",
    "config = m.config"
   ]
  },
  {
   "cell_type": "code",
   "execution_count": 5,
   "id": "3685b5e2-2060-4246-bd8d-498c3f9c08b0",
   "metadata": {},
   "outputs": [],
   "source": [
    "import json\n",
    "with open(\"config.json\", \"w\") as outfile:\n",
    "    json.dump(config, outfile)"
   ]
  },
  {
   "cell_type": "code",
   "execution_count": 6,
   "id": "b86a5cc6-80b2-4ace-8fec-4fd25613a9c5",
   "metadata": {},
   "outputs": [
    {
     "name": "stdout",
     "output_type": "stream",
     "text": [
      "Map saved to CitiBike Trips Aggregated.html!\n"
     ]
    }
   ],
   "source": [
    "m.save_to_html(file_name = 'CitiBike Trips Aggregated.html', read_only = False, config = config)"
   ]
  },
  {
   "cell_type": "code",
   "execution_count": null,
   "id": "32dfa275-976b-47bd-af91-c8dff678d2cb",
   "metadata": {},
   "outputs": [],
   "source": []
  }
 ],
 "metadata": {
  "kernelspec": {
   "display_name": "Python 3 (ipykernel)",
   "language": "python",
   "name": "python3"
  },
  "language_info": {
   "codemirror_mode": {
    "name": "ipython",
    "version": 3
   },
   "file_extension": ".py",
   "mimetype": "text/x-python",
   "name": "python",
   "nbconvert_exporter": "python",
   "pygments_lexer": "ipython3",
   "version": "3.9.19"
  }
 },
 "nbformat": 4,
 "nbformat_minor": 5
}
